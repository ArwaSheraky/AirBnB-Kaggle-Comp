{
 "cells": [
  {
   "cell_type": "markdown",
   "metadata": {},
   "source": [
    "# Airbnb Regression"
   ]
  },
  {
   "cell_type": "code",
   "execution_count": 1,
   "metadata": {},
   "outputs": [],
   "source": [
    "# import the libraries\n",
    "\n",
    "%matplotlib inline\n",
    "\n",
    "import pandas as pd\n",
    "import numpy as np\n",
    "import scipy\n",
    "import matplotlib.pyplot as plt\n",
    "import seaborn as sns\n",
    "\n",
    "# sklearn :: utils\n",
    "from sklearn.model_selection import train_test_split\n",
    "\n",
    "# sklearn :: models\n",
    "from sklearn.linear_model import LinearRegression\n",
    "from sklearn.ensemble import RandomForestRegressor\n",
    "from sklearn.neighbors import KNeighborsRegressor\n",
    "\n",
    "# sklearn :: evaluation metrics\n",
    "from sklearn.metrics import mean_absolute_error\n",
    "from sklearn.metrics import mean_squared_error\n",
    "\n",
    "# convert scientific notation to decimals\n",
    "pd.set_option('display.float_format', lambda x: '%.2f' % x)\n",
    "sns.set_style('whitegrid')"
   ]
  },
  {
   "cell_type": "markdown",
   "metadata": {},
   "source": [
    "__________________\n",
    "## Load Data"
   ]
  },
  {
   "cell_type": "code",
   "execution_count": 62,
   "metadata": {},
   "outputs": [
    {
     "name": "stdout",
     "output_type": "stream",
     "text": [
      "Path to data: data/train.csv\n"
     ]
    }
   ],
   "source": [
    "path = input(\"Path to data: \")\n",
    "df_airbnb = pd.read_csv(path)"
   ]
  },
  {
   "cell_type": "code",
   "execution_count": 3,
   "metadata": {},
   "outputs": [
    {
     "name": "stdout",
     "output_type": "stream",
     "text": [
      "Index(['id', 'log_price', 'property_type', 'room_type', 'amenities',\n",
      "       'accommodates', 'bathrooms', 'bed_type', 'cancellation_policy',\n",
      "       'cleaning_fee', 'city', 'description', 'first_review',\n",
      "       'host_has_profile_pic', 'host_identity_verified', 'host_response_rate',\n",
      "       'host_since', 'instant_bookable', 'last_review', 'latitude',\n",
      "       'longitude', 'name', 'neighbourhood', 'number_of_reviews',\n",
      "       'review_scores_rating', 'thumbnail_url', 'zipcode', 'bedrooms', 'beds'],\n",
      "      dtype='object')\n"
     ]
    },
    {
     "data": {
      "text/html": [
       "<div>\n",
       "<style scoped>\n",
       "    .dataframe tbody tr th:only-of-type {\n",
       "        vertical-align: middle;\n",
       "    }\n",
       "\n",
       "    .dataframe tbody tr th {\n",
       "        vertical-align: top;\n",
       "    }\n",
       "\n",
       "    .dataframe thead th {\n",
       "        text-align: right;\n",
       "    }\n",
       "</style>\n",
       "<table border=\"1\" class=\"dataframe\">\n",
       "  <thead>\n",
       "    <tr style=\"text-align: right;\">\n",
       "      <th></th>\n",
       "      <th>id</th>\n",
       "      <th>log_price</th>\n",
       "      <th>property_type</th>\n",
       "      <th>room_type</th>\n",
       "      <th>amenities</th>\n",
       "      <th>accommodates</th>\n",
       "      <th>bathrooms</th>\n",
       "      <th>bed_type</th>\n",
       "      <th>cancellation_policy</th>\n",
       "      <th>cleaning_fee</th>\n",
       "      <th>...</th>\n",
       "      <th>latitude</th>\n",
       "      <th>longitude</th>\n",
       "      <th>name</th>\n",
       "      <th>neighbourhood</th>\n",
       "      <th>number_of_reviews</th>\n",
       "      <th>review_scores_rating</th>\n",
       "      <th>thumbnail_url</th>\n",
       "      <th>zipcode</th>\n",
       "      <th>bedrooms</th>\n",
       "      <th>beds</th>\n",
       "    </tr>\n",
       "  </thead>\n",
       "  <tbody>\n",
       "    <tr>\n",
       "      <th>0</th>\n",
       "      <td>13662370</td>\n",
       "      <td>3.81</td>\n",
       "      <td>House</td>\n",
       "      <td>Private room</td>\n",
       "      <td>{TV,Internet,\"Wireless Internet\",\"Air conditio...</td>\n",
       "      <td>2</td>\n",
       "      <td>1.50</td>\n",
       "      <td>Real Bed</td>\n",
       "      <td>strict</td>\n",
       "      <td>True</td>\n",
       "      <td>...</td>\n",
       "      <td>41.85</td>\n",
       "      <td>-87.68</td>\n",
       "      <td>Pilsen Arts Community Custom Home</td>\n",
       "      <td>Pilsen</td>\n",
       "      <td>17</td>\n",
       "      <td>97.00</td>\n",
       "      <td>https://a0.muscache.com/im/pictures/81318153/a...</td>\n",
       "      <td>60608</td>\n",
       "      <td>1.00</td>\n",
       "      <td>1.00</td>\n",
       "    </tr>\n",
       "    <tr>\n",
       "      <th>1</th>\n",
       "      <td>4765892</td>\n",
       "      <td>4.94</td>\n",
       "      <td>Apartment</td>\n",
       "      <td>Entire home/apt</td>\n",
       "      <td>{TV,Internet,\"Wireless Internet\",\"Air conditio...</td>\n",
       "      <td>2</td>\n",
       "      <td>2.00</td>\n",
       "      <td>Real Bed</td>\n",
       "      <td>strict</td>\n",
       "      <td>True</td>\n",
       "      <td>...</td>\n",
       "      <td>34.07</td>\n",
       "      <td>-118.25</td>\n",
       "      <td>Apartment 5 minutes from DTLA &amp; Dodger Stadium</td>\n",
       "      <td>Echo Park</td>\n",
       "      <td>2</td>\n",
       "      <td>100.00</td>\n",
       "      <td>https://a0.muscache.com/im/pictures/aa00250e-0...</td>\n",
       "      <td>90012</td>\n",
       "      <td>1.00</td>\n",
       "      <td>1.00</td>\n",
       "    </tr>\n",
       "    <tr>\n",
       "      <th>2</th>\n",
       "      <td>21169968</td>\n",
       "      <td>4.94</td>\n",
       "      <td>Apartment</td>\n",
       "      <td>Entire home/apt</td>\n",
       "      <td>{TV,\"Cable TV\",\"Wireless Internet\",\"Air condit...</td>\n",
       "      <td>5</td>\n",
       "      <td>1.00</td>\n",
       "      <td>Real Bed</td>\n",
       "      <td>moderate</td>\n",
       "      <td>True</td>\n",
       "      <td>...</td>\n",
       "      <td>40.70</td>\n",
       "      <td>-73.92</td>\n",
       "      <td>Brand New Huge 2bdr apartment(L,M train 2 min)</td>\n",
       "      <td>Bushwick</td>\n",
       "      <td>25</td>\n",
       "      <td>88.00</td>\n",
       "      <td>https://a0.muscache.com/im/pictures/d9220535-c...</td>\n",
       "      <td>11237</td>\n",
       "      <td>2.00</td>\n",
       "      <td>3.00</td>\n",
       "    </tr>\n",
       "    <tr>\n",
       "      <th>3</th>\n",
       "      <td>7939196</td>\n",
       "      <td>4.87</td>\n",
       "      <td>Apartment</td>\n",
       "      <td>Entire home/apt</td>\n",
       "      <td>{\"Cable TV\",Internet,\"Wireless Internet\",\"Air ...</td>\n",
       "      <td>6</td>\n",
       "      <td>1.00</td>\n",
       "      <td>Real Bed</td>\n",
       "      <td>strict</td>\n",
       "      <td>True</td>\n",
       "      <td>...</td>\n",
       "      <td>40.74</td>\n",
       "      <td>-73.99</td>\n",
       "      <td>Grande Super Large APT !!!</td>\n",
       "      <td>Flatiron District</td>\n",
       "      <td>12</td>\n",
       "      <td>82.00</td>\n",
       "      <td>NaN</td>\n",
       "      <td>10010</td>\n",
       "      <td>1.00</td>\n",
       "      <td>3.00</td>\n",
       "    </tr>\n",
       "    <tr>\n",
       "      <th>4</th>\n",
       "      <td>18161036</td>\n",
       "      <td>3.66</td>\n",
       "      <td>House</td>\n",
       "      <td>Private room</td>\n",
       "      <td>{Internet,\"Wireless Internet\",\"Air conditionin...</td>\n",
       "      <td>2</td>\n",
       "      <td>1.00</td>\n",
       "      <td>Real Bed</td>\n",
       "      <td>flexible</td>\n",
       "      <td>True</td>\n",
       "      <td>...</td>\n",
       "      <td>34.05</td>\n",
       "      <td>-117.73</td>\n",
       "      <td>Private Cozy and Clean Rooms in Pomona</td>\n",
       "      <td>NaN</td>\n",
       "      <td>2</td>\n",
       "      <td>100.00</td>\n",
       "      <td>https://a0.muscache.com/im/pictures/e0c9b2f9-a...</td>\n",
       "      <td>91766</td>\n",
       "      <td>1.00</td>\n",
       "      <td>1.00</td>\n",
       "    </tr>\n",
       "  </tbody>\n",
       "</table>\n",
       "<p>5 rows × 29 columns</p>\n",
       "</div>"
      ],
      "text/plain": [
       "         id  log_price property_type        room_type  \\\n",
       "0  13662370       3.81         House     Private room   \n",
       "1   4765892       4.94     Apartment  Entire home/apt   \n",
       "2  21169968       4.94     Apartment  Entire home/apt   \n",
       "3   7939196       4.87     Apartment  Entire home/apt   \n",
       "4  18161036       3.66         House     Private room   \n",
       "\n",
       "                                           amenities  accommodates  bathrooms  \\\n",
       "0  {TV,Internet,\"Wireless Internet\",\"Air conditio...             2       1.50   \n",
       "1  {TV,Internet,\"Wireless Internet\",\"Air conditio...             2       2.00   \n",
       "2  {TV,\"Cable TV\",\"Wireless Internet\",\"Air condit...             5       1.00   \n",
       "3  {\"Cable TV\",Internet,\"Wireless Internet\",\"Air ...             6       1.00   \n",
       "4  {Internet,\"Wireless Internet\",\"Air conditionin...             2       1.00   \n",
       "\n",
       "   bed_type cancellation_policy  cleaning_fee  ...  latitude longitude  \\\n",
       "0  Real Bed              strict          True  ...     41.85    -87.68   \n",
       "1  Real Bed              strict          True  ...     34.07   -118.25   \n",
       "2  Real Bed            moderate          True  ...     40.70    -73.92   \n",
       "3  Real Bed              strict          True  ...     40.74    -73.99   \n",
       "4  Real Bed            flexible          True  ...     34.05   -117.73   \n",
       "\n",
       "                                             name      neighbourhood  \\\n",
       "0               Pilsen Arts Community Custom Home             Pilsen   \n",
       "1  Apartment 5 minutes from DTLA & Dodger Stadium          Echo Park   \n",
       "2  Brand New Huge 2bdr apartment(L,M train 2 min)           Bushwick   \n",
       "3                      Grande Super Large APT !!!  Flatiron District   \n",
       "4          Private Cozy and Clean Rooms in Pomona                NaN   \n",
       "\n",
       "  number_of_reviews review_scores_rating  \\\n",
       "0                17                97.00   \n",
       "1                 2               100.00   \n",
       "2                25                88.00   \n",
       "3                12                82.00   \n",
       "4                 2               100.00   \n",
       "\n",
       "                                       thumbnail_url zipcode bedrooms  beds  \n",
       "0  https://a0.muscache.com/im/pictures/81318153/a...   60608     1.00  1.00  \n",
       "1  https://a0.muscache.com/im/pictures/aa00250e-0...   90012     1.00  1.00  \n",
       "2  https://a0.muscache.com/im/pictures/d9220535-c...   11237     2.00  3.00  \n",
       "3                                                NaN   10010     1.00  3.00  \n",
       "4  https://a0.muscache.com/im/pictures/e0c9b2f9-a...   91766     1.00  1.00  \n",
       "\n",
       "[5 rows x 29 columns]"
      ]
     },
     "execution_count": 3,
     "metadata": {},
     "output_type": "execute_result"
    }
   ],
   "source": [
    "print(df_airbnb.columns)\n",
    "df_airbnb.head()"
   ]
  },
  {
   "cell_type": "markdown",
   "metadata": {},
   "source": [
    "______________________\n",
    "## Missing Values"
   ]
  },
  {
   "cell_type": "code",
   "execution_count": 63,
   "metadata": {},
   "outputs": [
    {
     "data": {
      "text/plain": [
       "id                            0\n",
       "log_price                     0\n",
       "property_type                 0\n",
       "room_type                     0\n",
       "amenities                     0\n",
       "accommodates                  0\n",
       "bathrooms                   133\n",
       "bed_type                      0\n",
       "cancellation_policy           0\n",
       "cleaning_fee                  0\n",
       "city                          0\n",
       "description                   0\n",
       "first_review              10856\n",
       "host_has_profile_pic        127\n",
       "host_identity_verified      127\n",
       "host_response_rate        12551\n",
       "host_since                  127\n",
       "instant_bookable              0\n",
       "last_review               10826\n",
       "latitude                      0\n",
       "longitude                     0\n",
       "name                          0\n",
       "neighbourhood              4675\n",
       "number_of_reviews             0\n",
       "review_scores_rating      11450\n",
       "thumbnail_url              5629\n",
       "zipcode                     645\n",
       "bedrooms                     63\n",
       "beds                         85\n",
       "dtype: int64"
      ]
     },
     "execution_count": 63,
     "metadata": {},
     "output_type": "execute_result"
    }
   ],
   "source": [
    "df_airbnb.isnull().sum()"
   ]
  },
  {
   "cell_type": "markdown",
   "metadata": {},
   "source": [
    "### 1. Review scores rating\n",
    "### 2. Bathrooms\n",
    "### 3. Bedrooms"
   ]
  },
  {
   "cell_type": "code",
   "execution_count": 64,
   "metadata": {
    "scrolled": false
   },
   "outputs": [
    {
     "name": "stdout",
     "output_type": "stream",
     "text": [
      "Bathrooms x bedrooms =  0.589\n",
      "Bathrooms x accommodates =  0.505\n"
     ]
    }
   ],
   "source": [
    "#Bathrooms\n",
    "import math\n",
    "\n",
    "print(\"Bathrooms x bedrooms = \", df_airbnb['bathrooms'].corr(df_airbnb['bedrooms']).round(3))\n",
    "print(\"Bathrooms x accommodates = \", df_airbnb['bathrooms'].corr(df_airbnb['accommodates']).round(3))"
   ]
  },
  {
   "cell_type": "code",
   "execution_count": 74,
   "metadata": {
    "scrolled": false
   },
   "outputs": [
    {
     "name": "stdout",
     "output_type": "stream",
     "text": [
      "bedrooms\n",
      "0.00    1.00\n",
      "1.00    1.00\n",
      "2.00    1.00\n",
      "3.00    2.00\n",
      "4.00    2.50\n",
      "5.00    3.50\n",
      "6.00    4.00\n",
      "7.00    4.50\n",
      "8.00    4.50\n",
      "9.00    4.00\n",
      "10.00   6.00\n",
      "Name: bathrooms, dtype: float64\n"
     ]
    },
    {
     "data": {
      "text/plain": [
       "<bound method IndexOpsMixin.value_counts of 89      1.00\n",
       "390     1.00\n",
       "810     1.00\n",
       "1484    1.00\n",
       "1516    1.00\n",
       "2172    1.00\n",
       "2458    1.00\n",
       "2740    1.00\n",
       "2814    1.00\n",
       "3216    1.00\n",
       "3640    1.00\n",
       "4025     nan\n",
       "4154    1.00\n",
       "4554    1.00\n",
       "4646    1.00\n",
       "5520    1.00\n",
       "6171    1.00\n",
       "6186    3.00\n",
       "6344    1.00\n",
       "6754    1.00\n",
       "6795    1.00\n",
       "7847    1.00\n",
       "7936    3.00\n",
       "8359    1.00\n",
       "8453    1.00\n",
       "8748    1.00\n",
       "9530    1.00\n",
       "9633    1.00\n",
       "9995    1.00\n",
       "10801   1.00\n",
       "        ... \n",
       "40538   1.00\n",
       "40818   1.00\n",
       "41588   1.00\n",
       "41817   2.00\n",
       "41870   1.00\n",
       "42382   1.00\n",
       "42443   1.00\n",
       "42538   1.00\n",
       "43177    nan\n",
       "43795   1.00\n",
       "43894    nan\n",
       "44720   4.00\n",
       "45300   1.00\n",
       "45637   1.00\n",
       "45745   1.00\n",
       "46944   1.00\n",
       "47022   1.00\n",
       "47080   1.00\n",
       "48165   1.00\n",
       "48586   1.00\n",
       "48591   1.00\n",
       "49075   1.00\n",
       "49120   1.00\n",
       "49165   1.00\n",
       "49179   1.00\n",
       "49735   1.00\n",
       "50269   3.00\n",
       "50392   1.00\n",
       "50397   1.00\n",
       "50402   1.00\n",
       "Name: bedrooms, Length: 133, dtype: float64>"
      ]
     },
     "execution_count": 74,
     "metadata": {},
     "output_type": "execute_result"
    }
   ],
   "source": [
    "bedrooms_med = df_airbnb.groupby('bedrooms', sort=False)['bathrooms'].median()\n",
    "print(bedrooms_grp)"
   ]
  },
  {
   "cell_type": "code",
   "execution_count": 77,
   "metadata": {
    "scrolled": false
   },
   "outputs": [
    {
     "data": {
      "text/plain": [
       "0"
      ]
     },
     "execution_count": 77,
     "metadata": {},
     "output_type": "execute_result"
    }
   ],
   "source": [
    "for idx in df_airbnb.index[df_airbnb['bathrooms'].isnull()]:\n",
    "    n_bedrms = df_airbnb.loc[idx,'bedrooms']\n",
    "    print(idx, '-', n_bedrms)\n",
    "\n",
    "    if(n_bedrms > 0): #replace by the median\n",
    "        df_airbnb.at[idx,'bathrooms'] = bedrooms_grp.iloc[int(n_bedrms)]\n",
    "        \n",
    "    else: #replace by the median bathroom\n",
    "        df_airbnb.at[idx,'bathrooms'] = df_airbnb['bathrooms'].mean()\n",
    "\n",
    "df_airbnb['bathrooms'].isnull().sum()"
   ]
  },
  {
   "cell_type": "code",
   "execution_count": 9,
   "metadata": {},
   "outputs": [
    {
     "name": "stdout",
     "output_type": "stream",
     "text": [
      "0.7135956188054617\n",
      "0.7090195281599462\n"
     ]
    }
   ],
   "source": [
    "#Bedrooms\n",
    "\n",
    "print(df_airbnb['bedrooms'].corr(df_airbnb['beds']))\n",
    "print(df_airbnb['bedrooms'].corr(df_airbnb['accommodates']))"
   ]
  },
  {
   "cell_type": "code",
   "execution_count": null,
   "metadata": {
    "scrolled": false
   },
   "outputs": [],
   "source": [
    "# Review scores rating\n",
    "'''\n",
    "rsr_group = df_airbnb.groupby('number_of_reviews')['review_scores_rating']['id']\n",
    "df_airbnb[df_airbnb['review_scores_rating'].isnull()]['number_of_reviews'].value_counts()\n",
    "\n",
    "\n",
    "for n in rsr_group.index:\n",
    "    rsr_df = df_airbnb[(df_airbnb['review_scores_rating'].isnull()) & (df_airbnb['number_of_reviews'] == n)]\n",
    "    rsr_df['review_scores_rating'].fillna(rsr_group[n])\n",
    "    #df_airbnb['review_scores_rating'] = rsr_df['review_scores_rating']\n",
    "\n",
    "    \n",
    "#df_airbnb['review_scores_rating'] = df_airbnb['review_scores_rating'].fillna(df_airbnb['number_of_reviews']*df_airbnb['review_scores_rating'].mean())\n",
    "'''\n"
   ]
  },
  {
   "cell_type": "markdown",
   "metadata": {},
   "source": [
    "_________________________________\n",
    "## Feature Engineering"
   ]
  },
  {
   "cell_type": "code",
   "execution_count": 78,
   "metadata": {},
   "outputs": [],
   "source": [
    "categorical=['property_type','room_type','bed_type','cancellation_policy', 'city']\n",
    "df_dummies=pd.get_dummies(df_airbnb[categorical])\n",
    "\n",
    "new_df = pd.concat([df_airbnb, df_dummies], axis=1)"
   ]
  },
  {
   "cell_type": "code",
   "execution_count": 82,
   "metadata": {},
   "outputs": [
    {
     "name": "stdout",
     "output_type": "stream",
     "text": [
      "New DF Columns=  81\n",
      "Index(['id', 'log_price', 'property_type', 'room_type', 'amenities',\n",
      "       'accommodates', 'bathrooms', 'bed_type', 'cancellation_policy',\n",
      "       'cleaning_fee', 'city', 'description', 'first_review',\n",
      "       'host_has_profile_pic', 'host_identity_verified', 'host_response_rate',\n",
      "       'host_since', 'instant_bookable', 'last_review', 'latitude',\n",
      "       'longitude', 'name', 'neighbourhood', 'number_of_reviews',\n",
      "       'review_scores_rating', 'thumbnail_url', 'zipcode', 'bedrooms', 'beds',\n",
      "       'property_type_Apartment', 'property_type_Bed & Breakfast',\n",
      "       'property_type_Boat', 'property_type_Boutique hotel',\n",
      "       'property_type_Bungalow', 'property_type_Cabin',\n",
      "       'property_type_Camper/RV', 'property_type_Castle', 'property_type_Cave',\n",
      "       'property_type_Chalet', 'property_type_Condominium',\n",
      "       'property_type_Dorm', 'property_type_Earth House',\n",
      "       'property_type_Guest suite', 'property_type_Guesthouse',\n",
      "       'property_type_Hostel', 'property_type_House', 'property_type_Hut',\n",
      "       'property_type_In-law', 'property_type_Island',\n",
      "       'property_type_Lighthouse', 'property_type_Loft', 'property_type_Other',\n",
      "       'property_type_Serviced apartment', 'property_type_Tent',\n",
      "       'property_type_Timeshare', 'property_type_Tipi',\n",
      "       'property_type_Townhouse', 'property_type_Train',\n",
      "       'property_type_Treehouse', 'property_type_Vacation home',\n",
      "       'property_type_Villa', 'property_type_Yurt',\n",
      "       'room_type_Entire home/apt', 'room_type_Private room',\n",
      "       'room_type_Shared room', 'bed_type_Airbed', 'bed_type_Couch',\n",
      "       'bed_type_Futon', 'bed_type_Pull-out Sofa', 'bed_type_Real Bed',\n",
      "       'cancellation_policy_flexible', 'cancellation_policy_moderate',\n",
      "       'cancellation_policy_strict', 'cancellation_policy_super_strict_30',\n",
      "       'cancellation_policy_super_strict_60', 'city_Boston', 'city_Chicago',\n",
      "       'city_DC', 'city_LA', 'city_NYC', 'city_SF'],\n",
      "      dtype='object')\n"
     ]
    }
   ],
   "source": [
    "print(\"New DF Columns= \",new_df.shape[1])\n",
    "print(new_df.columns)"
   ]
  },
  {
   "cell_type": "markdown",
   "metadata": {},
   "source": [
    "______________________________\n",
    "## Train the Models"
   ]
  },
  {
   "cell_type": "code",
   "execution_count": 83,
   "metadata": {},
   "outputs": [
    {
     "name": "stdout",
     "output_type": "stream",
     "text": [
      "(51000, 56)\n"
     ]
    }
   ],
   "source": [
    "X_columns = ['bathrooms', 'accommodates', 'number_of_reviews'] + list(df_dummies.columns)\n",
    "y_column = ['log_price']\n",
    "\n",
    "# handle missing values\n",
    "df_train = new_df[X_columns + y_column]\n",
    "print(df_train.shape)"
   ]
  },
  {
   "cell_type": "code",
   "execution_count": 86,
   "metadata": {},
   "outputs": [
    {
     "name": "stdout",
     "output_type": "stream",
     "text": [
      "X_train (40800, 55)\n",
      "y_train (40800, 1)\n",
      "X_test (10200, 55)\n",
      "y_test (10200, 1)\n"
     ]
    }
   ],
   "source": [
    "# Split\n",
    "\n",
    "threshold = 0.8\n",
    "X = df_train[X_columns]\n",
    "y = df_train[y_column]\n",
    "X_train, X_test, y_train, y_test = train_test_split(X, y, test_size=1.0-threshold, shuffle=True)\n",
    "\n",
    "print('X_train', X_train.shape)\n",
    "print('y_train', y_train.shape)\n",
    "print('X_test', X_test.shape)\n",
    "print('y_test', y_test.shape)"
   ]
  },
  {
   "cell_type": "code",
   "execution_count": 88,
   "metadata": {},
   "outputs": [],
   "source": [
    "# Linear Regression\n",
    "\n",
    "lr_model = LinearRegression()\n",
    "lr_model.fit(X_train, y_train)\n",
    "lr_pred = lr_model.predict(X_test)"
   ]
  },
  {
   "cell_type": "code",
   "execution_count": 89,
   "metadata": {},
   "outputs": [
    {
     "name": "stderr",
     "output_type": "stream",
     "text": [
      "C:\\Users\\A-Sha\\Anaconda3\\lib\\site-packages\\sklearn\\ensemble\\forest.py:246: FutureWarning: The default value of n_estimators will change from 10 in version 0.20 to 100 in 0.22.\n",
      "  \"10 in version 0.20 to 100 in 0.22.\", FutureWarning)\n",
      "C:\\Users\\A-Sha\\Anaconda3\\lib\\site-packages\\ipykernel_launcher.py:4: DataConversionWarning: A column-vector y was passed when a 1d array was expected. Please change the shape of y to (n_samples,), for example using ravel().\n",
      "  after removing the cwd from sys.path.\n"
     ]
    }
   ],
   "source": [
    "# Random Forest\n",
    "\n",
    "rf_model = RandomForestRegressor()\n",
    "rf_model.fit(X_train, y_train)\n",
    "rf_pred = rf_model.predict(X_test)"
   ]
  },
  {
   "cell_type": "code",
   "execution_count": 90,
   "metadata": {},
   "outputs": [],
   "source": [
    "# KNN\n",
    "\n",
    "kn_model = KNeighborsRegressor(10)\n",
    "kn_model.fit(X_train, y_train)\n",
    "kn_pred = kn_model.predict(X_test)"
   ]
  },
  {
   "cell_type": "markdown",
   "metadata": {},
   "source": [
    "_________________\n",
    "## Models Evaluations"
   ]
  },
  {
   "cell_type": "code",
   "execution_count": 91,
   "metadata": {},
   "outputs": [
    {
     "name": "stdout",
     "output_type": "stream",
     "text": [
      "RMSE 0.4765331722595068\n"
     ]
    },
    {
     "data": {
      "image/png": "[encoded data removed]",
      "text/plain": [
       "<Figure size 432x288 with 1 Axes>"
      ]
     },
     "metadata": {
      "needs_background": "light"
     },
     "output_type": "display_data"
    }
   ],
   "source": [
    "rmse = np.sqrt(mean_squared_error(y_test, lr_pred))\n",
    "print('RMSE', rmse)\n",
    "plt.scatter(y_test, lr_pred, alpha=0.3)\n",
    "plt.plot(range(0,10), range(0,10), '--r', alpha=0.3, label='Line1')\n",
    "plt.title('Linear Regression')\n",
    "plt.xlabel('True Value')\n",
    "plt.ylabel('Predict Value')\n",
    "plt.show()"
   ]
  },
  {
   "cell_type": "code",
   "execution_count": 92,
   "metadata": {},
   "outputs": [
    {
     "name": "stdout",
     "output_type": "stream",
     "text": [
      "RMSE 0.48695478410233894\n"
     ]
    },
    {
     "data": {
      "image/png": "[encoded data removed]",
      "text/plain": [
       "<Figure size 432x288 with 1 Axes>"
      ]
     },
     "metadata": {
      "needs_background": "light"
     },
     "output_type": "display_data"
    }
   ],
   "source": [
    "rmse = np.sqrt(mean_squared_error(y_test, rf_pred))\n",
    "print('RMSE', rmse)\n",
    "plt.scatter(y_test, rf_pred, alpha=0.3)\n",
    "plt.plot(range(0,10), range(0,10), '--r', alpha=0.3, label='Line1')\n",
    "plt.title('Random Forest Regression')\n",
    "plt.xlabel('True Value')\n",
    "plt.ylabel('Predict Value')\n",
    "plt.show()"
   ]
  },
  {
   "cell_type": "code",
   "execution_count": 93,
   "metadata": {},
   "outputs": [
    {
     "name": "stdout",
     "output_type": "stream",
     "text": [
      "RMSE 0.49191237918144776\n"
     ]
    },
    {
     "data": {
      "image/png": "[encoded data removed]",
      "text/plain": [
       "<Figure size 432x288 with 1 Axes>"
      ]
     },
     "metadata": {
      "needs_background": "light"
     },
     "output_type": "display_data"
    }
   ],
   "source": [
    "rmse = np.sqrt(mean_squared_error(y_test, kn_pred))\n",
    "print('RMSE', rmse)\n",
    "plt.scatter(y_test, kn_pred, alpha=0.3)\n",
    "plt.plot(range(0,10), range(0,10), '--r', alpha=0.3, label='Line1')\n",
    "plt.title('K-Nearest Neighbour Regression')\n",
    "plt.xlabel('True Value')\n",
    "plt.ylabel('Predict Value')\n",
    "plt.show()"
   ]
  },
  {
   "cell_type": "markdown",
   "metadata": {},
   "source": [
    "______________________\n",
    "## Prepare Submission"
   ]
  },
  {
   "cell_type": "code",
   "execution_count": null,
   "metadata": {},
   "outputs": [],
   "source": [
    "df_prediction = df_test[X_columns].fillna(0.0)\n",
    "df_test['log_price'] = model.predict(df_prediction)\n",
    "df_test[['id', 'log_price']]"
   ]
  },
  {
   "cell_type": "code",
   "execution_count": null,
   "metadata": {},
   "outputs": [],
   "source": [
    "df_test[['id', 'log_price']].to_csv('submission_linear_regression.csv', index=False)"
   ]
  }
 ],
 "metadata": {
  "kernelspec": {
   "display_name": "Python 3",
   "language": "python",
   "name": "python3"
  },
  "language_info": {
   "codemirror_mode": {
    "name": "ipython",
    "version": 3
   },
   "file_extension": ".py",
   "mimetype": "text/x-python",
   "name": "python",
   "nbconvert_exporter": "python",
   "pygments_lexer": "ipython3",
   "version": "3.7.1"
  }
 },
 "nbformat": 4,
 "nbformat_minor": 2
}
