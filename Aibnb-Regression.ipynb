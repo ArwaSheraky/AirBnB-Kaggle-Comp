{
 "cells": [
  {
   "cell_type": "markdown",
   "metadata": {},
   "source": [
    "# Airbnb Regression"
   ]
  },
  {
   "cell_type": "code",
   "execution_count": 56,
   "metadata": {},
   "outputs": [],
   "source": [
    "# import the libraries\n",
    "\n",
    "%matplotlib inline\n",
    "\n",
    "import pandas as pd\n",
    "import numpy as np\n",
    "import scipy\n",
    "import matplotlib.pyplot as plt\n",
    "import seaborn as sns\n",
    "\n",
    "# sklearn :: utils\n",
    "from sklearn.model_selection import train_test_split\n",
    "\n",
    "# sklearn :: models\n",
    "from sklearn.linear_model import LinearRegression\n",
    "from sklearn.ensemble import RandomForestRegressor\n",
    "from sklearn.neighbors import KNeighborsRegressor\n",
    "\n",
    "# sklearn :: evaluation metrics\n",
    "from sklearn.metrics import mean_absolute_error\n",
    "from sklearn.metrics import mean_squared_error\n",
    "\n",
    "# convert scientific notation to decimals\n",
    "pd.set_option('display.float_format', lambda x: '%.2f' % x)\n",
    "sns.set_style('whitegrid')"
   ]
  },
  {
   "cell_type": "markdown",
   "metadata": {},
   "source": [
    "__________________\n",
    "## Load Data"
   ]
  },
  {
   "cell_type": "code",
   "execution_count": 57,
   "metadata": {},
   "outputs": [
    {
     "name": "stdout",
     "output_type": "stream",
     "text": [
      "Path to data: data/test.csv\n"
     ]
    }
   ],
   "source": [
    "path = input(\"Path to data: \")\n",
    "df_airbnb = pd.read_csv(path)"
   ]
  },
  {
   "cell_type": "code",
   "execution_count": 58,
   "metadata": {},
   "outputs": [
    {
     "name": "stdout",
     "output_type": "stream",
     "text": [
      "Index(['id', 'property_type', 'room_type', 'amenities', 'accommodates',\n",
      "       'bathrooms', 'bed_type', 'cancellation_policy', 'cleaning_fee', 'city',\n",
      "       'description', 'first_review', 'host_has_profile_pic',\n",
      "       'host_identity_verified', 'host_response_rate', 'host_since',\n",
      "       'instant_bookable', 'last_review', 'latitude', 'longitude', 'name',\n",
      "       'neighbourhood', 'number_of_reviews', 'review_scores_rating',\n",
      "       'thumbnail_url', 'zipcode', 'bedrooms', 'beds'],\n",
      "      dtype='object')\n"
     ]
    },
    {
     "data": {
      "text/html": [
       "<div>\n",
       "<style scoped>\n",
       "    .dataframe tbody tr th:only-of-type {\n",
       "        vertical-align: middle;\n",
       "    }\n",
       "\n",
       "    .dataframe tbody tr th {\n",
       "        vertical-align: top;\n",
       "    }\n",
       "\n",
       "    .dataframe thead th {\n",
       "        text-align: right;\n",
       "    }\n",
       "</style>\n",
       "<table border=\"1\" class=\"dataframe\">\n",
       "  <thead>\n",
       "    <tr style=\"text-align: right;\">\n",
       "      <th></th>\n",
       "      <th>id</th>\n",
       "      <th>property_type</th>\n",
       "      <th>room_type</th>\n",
       "      <th>amenities</th>\n",
       "      <th>accommodates</th>\n",
       "      <th>bathrooms</th>\n",
       "      <th>bed_type</th>\n",
       "      <th>cancellation_policy</th>\n",
       "      <th>cleaning_fee</th>\n",
       "      <th>city</th>\n",
       "      <th>...</th>\n",
       "      <th>latitude</th>\n",
       "      <th>longitude</th>\n",
       "      <th>name</th>\n",
       "      <th>neighbourhood</th>\n",
       "      <th>number_of_reviews</th>\n",
       "      <th>review_scores_rating</th>\n",
       "      <th>thumbnail_url</th>\n",
       "      <th>zipcode</th>\n",
       "      <th>bedrooms</th>\n",
       "      <th>beds</th>\n",
       "    </tr>\n",
       "  </thead>\n",
       "  <tbody>\n",
       "    <tr>\n",
       "      <th>0</th>\n",
       "      <td>986942</td>\n",
       "      <td>Apartment</td>\n",
       "      <td>Private room</td>\n",
       "      <td>{Internet,\"Wireless Internet\",\"Air conditionin...</td>\n",
       "      <td>2</td>\n",
       "      <td>1.00</td>\n",
       "      <td>Real Bed</td>\n",
       "      <td>flexible</td>\n",
       "      <td>False</td>\n",
       "      <td>NYC</td>\n",
       "      <td>...</td>\n",
       "      <td>40.83</td>\n",
       "      <td>-73.95</td>\n",
       "      <td>En suite room  Upper West Side</td>\n",
       "      <td>Hamilton Heights</td>\n",
       "      <td>1</td>\n",
       "      <td>100.00</td>\n",
       "      <td>https://a0.muscache.com/im/pictures/90125799/6...</td>\n",
       "      <td>10031</td>\n",
       "      <td>1.00</td>\n",
       "      <td>1.00</td>\n",
       "    </tr>\n",
       "    <tr>\n",
       "      <th>1</th>\n",
       "      <td>16436737</td>\n",
       "      <td>House</td>\n",
       "      <td>Private room</td>\n",
       "      <td>{Internet,\"Wireless Internet\",\"Air conditionin...</td>\n",
       "      <td>4</td>\n",
       "      <td>1.50</td>\n",
       "      <td>Real Bed</td>\n",
       "      <td>moderate</td>\n",
       "      <td>True</td>\n",
       "      <td>DC</td>\n",
       "      <td>...</td>\n",
       "      <td>38.92</td>\n",
       "      <td>-77.03</td>\n",
       "      <td>Cozy or King BR in a grand victorian</td>\n",
       "      <td>Columbia Heights</td>\n",
       "      <td>146</td>\n",
       "      <td>96.00</td>\n",
       "      <td>https://a0.muscache.com/im/pictures/64128167/5...</td>\n",
       "      <td>20009</td>\n",
       "      <td>1.00</td>\n",
       "      <td>2.00</td>\n",
       "    </tr>\n",
       "    <tr>\n",
       "      <th>2</th>\n",
       "      <td>18209634</td>\n",
       "      <td>Apartment</td>\n",
       "      <td>Private room</td>\n",
       "      <td>{TV,\"Cable TV\",\"Wireless Internet\",\"Air condit...</td>\n",
       "      <td>1</td>\n",
       "      <td>1.00</td>\n",
       "      <td>Real Bed</td>\n",
       "      <td>flexible</td>\n",
       "      <td>True</td>\n",
       "      <td>NYC</td>\n",
       "      <td>...</td>\n",
       "      <td>40.67</td>\n",
       "      <td>-73.95</td>\n",
       "      <td>COMFORTABLE &amp; COZY-2 STOPS BARCLAY</td>\n",
       "      <td>Crown Heights</td>\n",
       "      <td>10</td>\n",
       "      <td>92.00</td>\n",
       "      <td>https://a0.muscache.com/im/pictures/56585377/e...</td>\n",
       "      <td>11225.0</td>\n",
       "      <td>1.00</td>\n",
       "      <td>1.00</td>\n",
       "    </tr>\n",
       "    <tr>\n",
       "      <th>3</th>\n",
       "      <td>15027024</td>\n",
       "      <td>Apartment</td>\n",
       "      <td>Private room</td>\n",
       "      <td>{TV,\"Wireless Internet\",\"Air conditioning\",Kit...</td>\n",
       "      <td>2</td>\n",
       "      <td>1.00</td>\n",
       "      <td>Real Bed</td>\n",
       "      <td>flexible</td>\n",
       "      <td>False</td>\n",
       "      <td>NYC</td>\n",
       "      <td>...</td>\n",
       "      <td>40.67</td>\n",
       "      <td>-73.95</td>\n",
       "      <td>Sunny &amp; Colorful Private BR in Crown Heights</td>\n",
       "      <td>Crown Heights</td>\n",
       "      <td>0</td>\n",
       "      <td>nan</td>\n",
       "      <td>https://a0.muscache.com/im/pictures/d76d0e9a-e...</td>\n",
       "      <td>11225.0</td>\n",
       "      <td>1.00</td>\n",
       "      <td>1.00</td>\n",
       "    </tr>\n",
       "    <tr>\n",
       "      <th>4</th>\n",
       "      <td>18074243</td>\n",
       "      <td>Apartment</td>\n",
       "      <td>Entire home/apt</td>\n",
       "      <td>{TV,\"Cable TV\",Internet,\"Wireless Internet\",\"A...</td>\n",
       "      <td>6</td>\n",
       "      <td>1.00</td>\n",
       "      <td>Real Bed</td>\n",
       "      <td>strict</td>\n",
       "      <td>True</td>\n",
       "      <td>NYC</td>\n",
       "      <td>...</td>\n",
       "      <td>40.74</td>\n",
       "      <td>-73.91</td>\n",
       "      <td>Lovely &amp; Cozy Apartment in Queens!</td>\n",
       "      <td>Woodside</td>\n",
       "      <td>45</td>\n",
       "      <td>93.00</td>\n",
       "      <td>https://a0.muscache.com/im/pictures/435d8af0-f...</td>\n",
       "      <td>11377</td>\n",
       "      <td>2.00</td>\n",
       "      <td>3.00</td>\n",
       "    </tr>\n",
       "  </tbody>\n",
       "</table>\n",
       "<p>5 rows × 28 columns</p>\n",
       "</div>"
      ],
      "text/plain": [
       "         id property_type        room_type  \\\n",
       "0    986942     Apartment     Private room   \n",
       "1  16436737         House     Private room   \n",
       "2  18209634     Apartment     Private room   \n",
       "3  15027024     Apartment     Private room   \n",
       "4  18074243     Apartment  Entire home/apt   \n",
       "\n",
       "                                           amenities  accommodates  bathrooms  \\\n",
       "0  {Internet,\"Wireless Internet\",\"Air conditionin...             2       1.00   \n",
       "1  {Internet,\"Wireless Internet\",\"Air conditionin...             4       1.50   \n",
       "2  {TV,\"Cable TV\",\"Wireless Internet\",\"Air condit...             1       1.00   \n",
       "3  {TV,\"Wireless Internet\",\"Air conditioning\",Kit...             2       1.00   \n",
       "4  {TV,\"Cable TV\",Internet,\"Wireless Internet\",\"A...             6       1.00   \n",
       "\n",
       "   bed_type cancellation_policy  cleaning_fee city  ...  latitude longitude  \\\n",
       "0  Real Bed            flexible         False  NYC  ...     40.83    -73.95   \n",
       "1  Real Bed            moderate          True   DC  ...     38.92    -77.03   \n",
       "2  Real Bed            flexible          True  NYC  ...     40.67    -73.95   \n",
       "3  Real Bed            flexible         False  NYC  ...     40.67    -73.95   \n",
       "4  Real Bed              strict          True  NYC  ...     40.74    -73.91   \n",
       "\n",
       "                                           name     neighbourhood  \\\n",
       "0                En suite room  Upper West Side  Hamilton Heights   \n",
       "1          Cozy or King BR in a grand victorian  Columbia Heights   \n",
       "2            COMFORTABLE & COZY-2 STOPS BARCLAY     Crown Heights   \n",
       "3  Sunny & Colorful Private BR in Crown Heights     Crown Heights   \n",
       "4            Lovely & Cozy Apartment in Queens!          Woodside   \n",
       "\n",
       "  number_of_reviews review_scores_rating  \\\n",
       "0                 1               100.00   \n",
       "1               146                96.00   \n",
       "2                10                92.00   \n",
       "3                 0                  nan   \n",
       "4                45                93.00   \n",
       "\n",
       "                                       thumbnail_url  zipcode  bedrooms  beds  \n",
       "0  https://a0.muscache.com/im/pictures/90125799/6...    10031      1.00  1.00  \n",
       "1  https://a0.muscache.com/im/pictures/64128167/5...    20009      1.00  2.00  \n",
       "2  https://a0.muscache.com/im/pictures/56585377/e...  11225.0      1.00  1.00  \n",
       "3  https://a0.muscache.com/im/pictures/d76d0e9a-e...  11225.0      1.00  1.00  \n",
       "4  https://a0.muscache.com/im/pictures/435d8af0-f...    11377      2.00  3.00  \n",
       "\n",
       "[5 rows x 28 columns]"
      ]
     },
     "execution_count": 58,
     "metadata": {},
     "output_type": "execute_result"
    }
   ],
   "source": [
    "print(df_airbnb.columns)\n",
    "df_airbnb.head()"
   ]
  },
  {
   "cell_type": "markdown",
   "metadata": {},
   "source": [
    "______________________\n",
    "## Missing Values"
   ]
  },
  {
   "cell_type": "code",
   "execution_count": 30,
   "metadata": {},
   "outputs": [
    {
     "data": {
      "text/plain": [
       "id                           0\n",
       "property_type                0\n",
       "room_type                    0\n",
       "amenities                    0\n",
       "accommodates                 0\n",
       "bathrooms                   67\n",
       "bed_type                     0\n",
       "cancellation_policy          0\n",
       "cleaning_fee                 0\n",
       "city                         0\n",
       "description                  0\n",
       "first_review              5008\n",
       "host_has_profile_pic        61\n",
       "host_identity_verified      61\n",
       "host_response_rate        5748\n",
       "host_since                  61\n",
       "instant_bookable             0\n",
       "last_review               5001\n",
       "latitude                     0\n",
       "longitude                    0\n",
       "name                         0\n",
       "neighbourhood             2197\n",
       "number_of_reviews            0\n",
       "review_scores_rating      5272\n",
       "thumbnail_url             2587\n",
       "zipcode                    321\n",
       "bedrooms                    28\n",
       "beds                        46\n",
       "dtype: int64"
      ]
     },
     "execution_count": 30,
     "metadata": {},
     "output_type": "execute_result"
    }
   ],
   "source": [
    "df_airbnb.isnull().sum()"
   ]
  },
  {
   "cell_type": "code",
   "execution_count": 31,
   "metadata": {
    "scrolled": false
   },
   "outputs": [
    {
     "name": "stdout",
     "output_type": "stream",
     "text": [
      "bedrooms\n",
      "0.00    1.00\n",
      "1.00    1.00\n",
      "2.00    1.00\n",
      "3.00    2.00\n",
      "4.00    2.50\n",
      "5.00    3.50\n",
      "6.00    4.00\n",
      "7.00    6.25\n",
      "8.00    5.75\n",
      "9.00    3.00\n",
      "10.00   8.00\n",
      "Name: bathrooms, dtype: float64\n",
      "0.0 -- 1\n",
      "1.0 -- 1\n",
      "2.0 -- 1\n",
      "3.0 -- 2\n",
      "4.0 -- 2\n",
      "5.0 -- 3\n",
      "6.0 -- 4\n",
      "7.0 -- 6\n",
      "8.0 -- 5\n",
      "9.0 -- 3\n",
      "10.0 -- 8\n"
     ]
    }
   ],
   "source": [
    "#Bathrooms\n",
    "import math\n",
    "\n",
    "bedrooms_grp = df_airbnb.groupby('bedrooms')['bathrooms'].median()\n",
    "print(bedrooms_grp)\n",
    "\n",
    "for idx, bedrm_n in enumerate(bedrooms_grp):\n",
    "    print(bedrooms_grp.index[idx],\"--\",math.floor(bedrm_n))\n",
    "\n",
    "#df_airbnb[df_airbnb['bedrooms'] == bedrm_n]\n",
    "#df_airbnb['bathrooms'] = df_airbnb['bathrooms'].fillna(bedrooms_grp.index[df_airbnb['bedrooms']])\n"
   ]
  },
  {
   "cell_type": "code",
   "execution_count": 5,
   "metadata": {
    "scrolled": false
   },
   "outputs": [
    {
     "ename": "Exception",
     "evalue": "Column(s) review_scores_rating already selected",
     "output_type": "error",
     "traceback": [
      "\u001b[1;31m---------------------------------------------------------------------------\u001b[0m",
      "\u001b[1;31mException\u001b[0m                                 Traceback (most recent call last)",
      "\u001b[1;32m<ipython-input-5-80feb59476b1>\u001b[0m in \u001b[0;36m<module>\u001b[1;34m\u001b[0m\n\u001b[0;32m      1\u001b[0m \u001b[1;31m# Review scores rating\u001b[0m\u001b[1;33m\u001b[0m\u001b[1;33m\u001b[0m\u001b[1;33m\u001b[0m\u001b[0m\n\u001b[0;32m      2\u001b[0m \u001b[1;33m\u001b[0m\u001b[0m\n\u001b[1;32m----> 3\u001b[1;33m \u001b[0mrsr_group\u001b[0m \u001b[1;33m=\u001b[0m \u001b[0mdf_airbnb\u001b[0m\u001b[1;33m.\u001b[0m\u001b[0mgroupby\u001b[0m\u001b[1;33m(\u001b[0m\u001b[1;34m'number_of_reviews'\u001b[0m\u001b[1;33m)\u001b[0m\u001b[1;33m[\u001b[0m\u001b[1;34m'review_scores_rating'\u001b[0m\u001b[1;33m]\u001b[0m\u001b[1;33m[\u001b[0m\u001b[1;34m'id'\u001b[0m\u001b[1;33m]\u001b[0m\u001b[1;33m\u001b[0m\u001b[1;33m\u001b[0m\u001b[0m\n\u001b[0m\u001b[0;32m      4\u001b[0m \u001b[0mdf_airbnb\u001b[0m\u001b[1;33m[\u001b[0m\u001b[0mdf_airbnb\u001b[0m\u001b[1;33m[\u001b[0m\u001b[1;34m'review_scores_rating'\u001b[0m\u001b[1;33m]\u001b[0m\u001b[1;33m.\u001b[0m\u001b[0misnull\u001b[0m\u001b[1;33m(\u001b[0m\u001b[1;33m)\u001b[0m\u001b[1;33m]\u001b[0m\u001b[1;33m[\u001b[0m\u001b[1;34m'number_of_reviews'\u001b[0m\u001b[1;33m]\u001b[0m\u001b[1;33m.\u001b[0m\u001b[0mvalue_counts\u001b[0m\u001b[1;33m(\u001b[0m\u001b[1;33m)\u001b[0m\u001b[1;33m\u001b[0m\u001b[1;33m\u001b[0m\u001b[0m\n\u001b[0;32m      5\u001b[0m \u001b[1;33m\u001b[0m\u001b[0m\n",
      "\u001b[1;32m~\\Anaconda3\\lib\\site-packages\\pandas\\core\\base.py\u001b[0m in \u001b[0;36m__getitem__\u001b[1;34m(self, key)\u001b[0m\n\u001b[0;32m    248\u001b[0m         \u001b[1;32mif\u001b[0m \u001b[0mself\u001b[0m\u001b[1;33m.\u001b[0m\u001b[0m_selection\u001b[0m \u001b[1;32mis\u001b[0m \u001b[1;32mnot\u001b[0m \u001b[1;32mNone\u001b[0m\u001b[1;33m:\u001b[0m\u001b[1;33m\u001b[0m\u001b[1;33m\u001b[0m\u001b[0m\n\u001b[0;32m    249\u001b[0m             raise Exception('Column(s) {selection} already selected'\n\u001b[1;32m--> 250\u001b[1;33m                             .format(selection=self._selection))\n\u001b[0m\u001b[0;32m    251\u001b[0m \u001b[1;33m\u001b[0m\u001b[0m\n\u001b[0;32m    252\u001b[0m         if isinstance(key, (list, tuple, ABCSeries, ABCIndexClass,\n",
      "\u001b[1;31mException\u001b[0m: Column(s) review_scores_rating already selected"
     ]
    }
   ],
   "source": [
    "# Review scores rating\n",
    "'''\n",
    "rsr_group = df_airbnb.groupby('number_of_reviews')['review_scores_rating']['id']\n",
    "df_airbnb[df_airbnb['review_scores_rating'].isnull()]['number_of_reviews'].value_counts()\n",
    "\n",
    "\n",
    "for n in rsr_group.index:\n",
    "    rsr_df = df_airbnb[(df_airbnb['review_scores_rating'].isnull()) & (df_airbnb['number_of_reviews'] == n)]\n",
    "    rsr_df['review_scores_rating'].fillna(rsr_group[n])\n",
    "    #df_airbnb['review_scores_rating'] = rsr_df['review_scores_rating']\n",
    "\n",
    "    \n",
    "#df_airbnb['review_scores_rating'] = df_airbnb['review_scores_rating'].fillna(df_airbnb['number_of_reviews']*df_airbnb['review_scores_rating'].mean())\n",
    "'''\n"
   ]
  },
  {
   "cell_type": "markdown",
   "metadata": {},
   "source": [
    "_________________________________\n",
    "## Feature Engineering"
   ]
  },
  {
   "cell_type": "code",
   "execution_count": 59,
   "metadata": {},
   "outputs": [],
   "source": [
    "categorical=['property_type','room_type','bed_type','cancellation_policy', 'city']\n",
    "df_dummies=pd.get_dummies(df_airbnb[categorical])\n",
    "\n",
    "new_df = pd.concat([df_airbnb, df_dummies], axis=1)"
   ]
  },
  {
   "cell_type": "code",
   "execution_count": 60,
   "metadata": {},
   "outputs": [
    {
     "name": "stdout",
     "output_type": "stream",
     "text": [
      "Index(['id', 'property_type', 'room_type', 'amenities', 'accommodates',\n",
      "       'bathrooms', 'bed_type', 'cancellation_policy', 'cleaning_fee', 'city',\n",
      "       'description', 'first_review', 'host_has_profile_pic',\n",
      "       'host_identity_verified', 'host_response_rate', 'host_since',\n",
      "       'instant_bookable', 'last_review', 'latitude', 'longitude', 'name',\n",
      "       'neighbourhood', 'number_of_reviews', 'review_scores_rating',\n",
      "       'thumbnail_url', 'zipcode', 'bedrooms', 'beds',\n",
      "       'property_type_Apartment', 'property_type_Bed & Breakfast',\n",
      "       'property_type_Boat', 'property_type_Boutique hotel',\n",
      "       'property_type_Bungalow', 'property_type_Cabin',\n",
      "       'property_type_Camper/RV', 'property_type_Casa particular',\n",
      "       'property_type_Castle', 'property_type_Chalet',\n",
      "       'property_type_Condominium', 'property_type_Dorm',\n",
      "       'property_type_Guest suite', 'property_type_Guesthouse',\n",
      "       'property_type_Hostel', 'property_type_House', 'property_type_Hut',\n",
      "       'property_type_In-law', 'property_type_Loft', 'property_type_Other',\n",
      "       'property_type_Parking Space', 'property_type_Serviced apartment',\n",
      "       'property_type_Tent', 'property_type_Timeshare', 'property_type_Tipi',\n",
      "       'property_type_Townhouse', 'property_type_Train',\n",
      "       'property_type_Treehouse', 'property_type_Vacation home',\n",
      "       'property_type_Villa', 'property_type_Yurt',\n",
      "       'room_type_Entire home/apt', 'room_type_Private room',\n",
      "       'room_type_Shared room', 'bed_type_Airbed', 'bed_type_Couch',\n",
      "       'bed_type_Futon', 'bed_type_Pull-out Sofa', 'bed_type_Real Bed',\n",
      "       'cancellation_policy_flexible', 'cancellation_policy_moderate',\n",
      "       'cancellation_policy_strict', 'cancellation_policy_super_strict_30',\n",
      "       'cancellation_policy_super_strict_60', 'city_Boston', 'city_Chicago',\n",
      "       'city_DC', 'city_LA', 'city_NYC', 'city_SF'],\n",
      "      dtype='object')\n",
      "<class 'pandas.core.frame.DataFrame'>\n",
      "RangeIndex: 23111 entries, 0 to 23110\n",
      "Data columns (total 78 columns):\n",
      "id                                     23111 non-null int64\n",
      "property_type                          23111 non-null object\n",
      "room_type                              23111 non-null object\n",
      "amenities                              23111 non-null object\n",
      "accommodates                           23111 non-null int64\n",
      "bathrooms                              23044 non-null float64\n",
      "bed_type                               23111 non-null object\n",
      "cancellation_policy                    23111 non-null object\n",
      "cleaning_fee                           23111 non-null bool\n",
      "city                                   23111 non-null object\n",
      "description                            23111 non-null object\n",
      "first_review                           18103 non-null object\n",
      "host_has_profile_pic                   23050 non-null object\n",
      "host_identity_verified                 23050 non-null object\n",
      "host_response_rate                     17363 non-null object\n",
      "host_since                             23050 non-null object\n",
      "instant_bookable                       23111 non-null object\n",
      "last_review                            18110 non-null object\n",
      "latitude                               23111 non-null float64\n",
      "longitude                              23111 non-null float64\n",
      "name                                   23111 non-null object\n",
      "neighbourhood                          20914 non-null object\n",
      "number_of_reviews                      23111 non-null int64\n",
      "review_scores_rating                   17839 non-null float64\n",
      "thumbnail_url                          20524 non-null object\n",
      "zipcode                                22790 non-null object\n",
      "bedrooms                               23083 non-null float64\n",
      "beds                                   23065 non-null float64\n",
      "property_type_Apartment                23111 non-null uint8\n",
      "property_type_Bed & Breakfast          23111 non-null uint8\n",
      "property_type_Boat                     23111 non-null uint8\n",
      "property_type_Boutique hotel           23111 non-null uint8\n",
      "property_type_Bungalow                 23111 non-null uint8\n",
      "property_type_Cabin                    23111 non-null uint8\n",
      "property_type_Camper/RV                23111 non-null uint8\n",
      "property_type_Casa particular          23111 non-null uint8\n",
      "property_type_Castle                   23111 non-null uint8\n",
      "property_type_Chalet                   23111 non-null uint8\n",
      "property_type_Condominium              23111 non-null uint8\n",
      "property_type_Dorm                     23111 non-null uint8\n",
      "property_type_Guest suite              23111 non-null uint8\n",
      "property_type_Guesthouse               23111 non-null uint8\n",
      "property_type_Hostel                   23111 non-null uint8\n",
      "property_type_House                    23111 non-null uint8\n",
      "property_type_Hut                      23111 non-null uint8\n",
      "property_type_In-law                   23111 non-null uint8\n",
      "property_type_Loft                     23111 non-null uint8\n",
      "property_type_Other                    23111 non-null uint8\n",
      "property_type_Parking Space            23111 non-null uint8\n",
      "property_type_Serviced apartment       23111 non-null uint8\n",
      "property_type_Tent                     23111 non-null uint8\n",
      "property_type_Timeshare                23111 non-null uint8\n",
      "property_type_Tipi                     23111 non-null uint8\n",
      "property_type_Townhouse                23111 non-null uint8\n",
      "property_type_Train                    23111 non-null uint8\n",
      "property_type_Treehouse                23111 non-null uint8\n",
      "property_type_Vacation home            23111 non-null uint8\n",
      "property_type_Villa                    23111 non-null uint8\n",
      "property_type_Yurt                     23111 non-null uint8\n",
      "room_type_Entire home/apt              23111 non-null uint8\n",
      "room_type_Private room                 23111 non-null uint8\n",
      "room_type_Shared room                  23111 non-null uint8\n",
      "bed_type_Airbed                        23111 non-null uint8\n",
      "bed_type_Couch                         23111 non-null uint8\n",
      "bed_type_Futon                         23111 non-null uint8\n",
      "bed_type_Pull-out Sofa                 23111 non-null uint8\n",
      "bed_type_Real Bed                      23111 non-null uint8\n",
      "cancellation_policy_flexible           23111 non-null uint8\n",
      "cancellation_policy_moderate           23111 non-null uint8\n",
      "cancellation_policy_strict             23111 non-null uint8\n",
      "cancellation_policy_super_strict_30    23111 non-null uint8\n",
      "cancellation_policy_super_strict_60    23111 non-null uint8\n",
      "city_Boston                            23111 non-null uint8\n",
      "city_Chicago                           23111 non-null uint8\n",
      "city_DC                                23111 non-null uint8\n",
      "city_LA                                23111 non-null uint8\n",
      "city_NYC                               23111 non-null uint8\n",
      "city_SF                                23111 non-null uint8\n",
      "dtypes: bool(1), float64(6), int64(3), object(18), uint8(50)\n",
      "memory usage: 5.9+ MB\n"
     ]
    }
   ],
   "source": [
    "print(new_df.columns)\n",
    "new_df.info()"
   ]
  },
  {
   "cell_type": "markdown",
   "metadata": {},
   "source": [
    "______________________________\n",
    "## Train the Models"
   ]
  },
  {
   "cell_type": "code",
   "execution_count": 61,
   "metadata": {},
   "outputs": [
    {
     "name": "stdout",
     "output_type": "stream",
     "text": [
      "(23111, 52)\n"
     ]
    }
   ],
   "source": [
    "X_columns = ['accommodates', 'number_of_reviews'] + list(df_dummies.columns)\n",
    "y_column = ['log_price']\n",
    "\n",
    "# handle missing values\n",
    "df_train = new_df[X_columns + y_column]\n",
    "print(df_train.shape)"
   ]
  },
  {
   "cell_type": "code",
   "execution_count": 48,
   "metadata": {},
   "outputs": [
    {
     "name": "stdout",
     "output_type": "stream",
     "text": [
      "X_train (40800, 54)\n",
      "y_train (40800, 1)\n",
      "X_test (10200, 54)\n",
      "y_test (10200, 1)\n"
     ]
    }
   ],
   "source": [
    "# Split\n",
    "\n",
    "threshold = 0.8\n",
    "X = df_train[X_columns]\n",
    "y = df_train[y_column]\n",
    "X_train, X_test, y_train, y_test = train_test_split(X, y, test_size=1.0-threshold, shuffle=True)\n",
    "\n",
    "print('X_train', X_train.shape)\n",
    "print('y_train', y_train.shape)\n",
    "print('X_test', X_test.shape)\n",
    "print('y_test', y_test.shape)"
   ]
  },
  {
   "cell_type": "code",
   "execution_count": 62,
   "metadata": {},
   "outputs": [
    {
     "ename": "ValueError",
     "evalue": "shapes (51000,55) and (54,1) not aligned: 55 (dim 1) != 54 (dim 0)",
     "output_type": "error",
     "traceback": [
      "\u001b[1;31m---------------------------------------------------------------------------\u001b[0m",
      "\u001b[1;31mValueError\u001b[0m                                Traceback (most recent call last)",
      "\u001b[1;32m<ipython-input-62-f533f0d0081d>\u001b[0m in \u001b[0;36m<module>\u001b[1;34m\u001b[0m\n\u001b[0;32m      3\u001b[0m \u001b[1;31m#lr_model = LinearRegression()\u001b[0m\u001b[1;33m\u001b[0m\u001b[1;33m\u001b[0m\u001b[1;33m\u001b[0m\u001b[0m\n\u001b[0;32m      4\u001b[0m \u001b[1;31m#lr_model.fit(X_train, y_train)\u001b[0m\u001b[1;33m\u001b[0m\u001b[1;33m\u001b[0m\u001b[1;33m\u001b[0m\u001b[0m\n\u001b[1;32m----> 5\u001b[1;33m \u001b[0mlr_pred\u001b[0m \u001b[1;33m=\u001b[0m \u001b[0mlr_model\u001b[0m\u001b[1;33m.\u001b[0m\u001b[0mpredict\u001b[0m\u001b[1;33m(\u001b[0m\u001b[0mdf_train\u001b[0m\u001b[1;33m)\u001b[0m\u001b[1;33m\u001b[0m\u001b[1;33m\u001b[0m\u001b[0m\n\u001b[0m",
      "\u001b[1;32m~\\Anaconda3\\lib\\site-packages\\sklearn\\linear_model\\base.py\u001b[0m in \u001b[0;36mpredict\u001b[1;34m(self, X)\u001b[0m\n\u001b[0;32m    211\u001b[0m             \u001b[0mReturns\u001b[0m \u001b[0mpredicted\u001b[0m \u001b[0mvalues\u001b[0m\u001b[1;33m.\u001b[0m\u001b[1;33m\u001b[0m\u001b[1;33m\u001b[0m\u001b[0m\n\u001b[0;32m    212\u001b[0m         \"\"\"\n\u001b[1;32m--> 213\u001b[1;33m         \u001b[1;32mreturn\u001b[0m \u001b[0mself\u001b[0m\u001b[1;33m.\u001b[0m\u001b[0m_decision_function\u001b[0m\u001b[1;33m(\u001b[0m\u001b[0mX\u001b[0m\u001b[1;33m)\u001b[0m\u001b[1;33m\u001b[0m\u001b[1;33m\u001b[0m\u001b[0m\n\u001b[0m\u001b[0;32m    214\u001b[0m \u001b[1;33m\u001b[0m\u001b[0m\n\u001b[0;32m    215\u001b[0m     \u001b[0m_preprocess_data\u001b[0m \u001b[1;33m=\u001b[0m \u001b[0mstaticmethod\u001b[0m\u001b[1;33m(\u001b[0m\u001b[0m_preprocess_data\u001b[0m\u001b[1;33m)\u001b[0m\u001b[1;33m\u001b[0m\u001b[1;33m\u001b[0m\u001b[0m\n",
      "\u001b[1;32m~\\Anaconda3\\lib\\site-packages\\sklearn\\linear_model\\base.py\u001b[0m in \u001b[0;36m_decision_function\u001b[1;34m(self, X)\u001b[0m\n\u001b[0;32m    196\u001b[0m         \u001b[0mX\u001b[0m \u001b[1;33m=\u001b[0m \u001b[0mcheck_array\u001b[0m\u001b[1;33m(\u001b[0m\u001b[0mX\u001b[0m\u001b[1;33m,\u001b[0m \u001b[0maccept_sparse\u001b[0m\u001b[1;33m=\u001b[0m\u001b[1;33m[\u001b[0m\u001b[1;34m'csr'\u001b[0m\u001b[1;33m,\u001b[0m \u001b[1;34m'csc'\u001b[0m\u001b[1;33m,\u001b[0m \u001b[1;34m'coo'\u001b[0m\u001b[1;33m]\u001b[0m\u001b[1;33m)\u001b[0m\u001b[1;33m\u001b[0m\u001b[1;33m\u001b[0m\u001b[0m\n\u001b[0;32m    197\u001b[0m         return safe_sparse_dot(X, self.coef_.T,\n\u001b[1;32m--> 198\u001b[1;33m                                dense_output=True) + self.intercept_\n\u001b[0m\u001b[0;32m    199\u001b[0m \u001b[1;33m\u001b[0m\u001b[0m\n\u001b[0;32m    200\u001b[0m     \u001b[1;32mdef\u001b[0m \u001b[0mpredict\u001b[0m\u001b[1;33m(\u001b[0m\u001b[0mself\u001b[0m\u001b[1;33m,\u001b[0m \u001b[0mX\u001b[0m\u001b[1;33m)\u001b[0m\u001b[1;33m:\u001b[0m\u001b[1;33m\u001b[0m\u001b[1;33m\u001b[0m\u001b[0m\n",
      "\u001b[1;32m~\\Anaconda3\\lib\\site-packages\\sklearn\\utils\\extmath.py\u001b[0m in \u001b[0;36msafe_sparse_dot\u001b[1;34m(a, b, dense_output)\u001b[0m\n\u001b[0;32m    171\u001b[0m         \u001b[1;32mreturn\u001b[0m \u001b[0mret\u001b[0m\u001b[1;33m\u001b[0m\u001b[1;33m\u001b[0m\u001b[0m\n\u001b[0;32m    172\u001b[0m     \u001b[1;32melse\u001b[0m\u001b[1;33m:\u001b[0m\u001b[1;33m\u001b[0m\u001b[1;33m\u001b[0m\u001b[0m\n\u001b[1;32m--> 173\u001b[1;33m         \u001b[1;32mreturn\u001b[0m \u001b[0mnp\u001b[0m\u001b[1;33m.\u001b[0m\u001b[0mdot\u001b[0m\u001b[1;33m(\u001b[0m\u001b[0ma\u001b[0m\u001b[1;33m,\u001b[0m \u001b[0mb\u001b[0m\u001b[1;33m)\u001b[0m\u001b[1;33m\u001b[0m\u001b[1;33m\u001b[0m\u001b[0m\n\u001b[0m\u001b[0;32m    174\u001b[0m \u001b[1;33m\u001b[0m\u001b[0m\n\u001b[0;32m    175\u001b[0m \u001b[1;33m\u001b[0m\u001b[0m\n",
      "\u001b[1;31mValueError\u001b[0m: shapes (51000,55) and (54,1) not aligned: 55 (dim 1) != 54 (dim 0)"
     ]
    }
   ],
   "source": [
    "# Linear Regression\n",
    "\n",
    "lr_model = LinearRegression()\n",
    "lr_model.fit(X_train, y_train)\n",
    "lr_pred = lr_model.predict(df_train)"
   ]
  },
  {
   "cell_type": "code",
   "execution_count": 50,
   "metadata": {},
   "outputs": [
    {
     "name": "stderr",
     "output_type": "stream",
     "text": [
      "C:\\Users\\A-Sha\\Anaconda3\\lib\\site-packages\\sklearn\\ensemble\\forest.py:246: FutureWarning: The default value of n_estimators will change from 10 in version 0.20 to 100 in 0.22.\n",
      "  \"10 in version 0.20 to 100 in 0.22.\", FutureWarning)\n",
      "C:\\Users\\A-Sha\\Anaconda3\\lib\\site-packages\\ipykernel_launcher.py:4: DataConversionWarning: A column-vector y was passed when a 1d array was expected. Please change the shape of y to (n_samples,), for example using ravel().\n",
      "  after removing the cwd from sys.path.\n"
     ]
    }
   ],
   "source": [
    "# Random Forest\n",
    "\n",
    "rf_model = RandomForestRegressor()\n",
    "rf_model.fit(X_train, y_train)\n",
    "rf_pred = rf_model.predict(X_test)"
   ]
  },
  {
   "cell_type": "code",
   "execution_count": 51,
   "metadata": {},
   "outputs": [],
   "source": [
    "kn_model = KNeighborsRegressor(10)\n",
    "kn_model.fit(X_train, y_train)\n",
    "kn_pred = kn_model.predict(X_test)"
   ]
  },
  {
   "cell_type": "markdown",
   "metadata": {},
   "source": [
    "_________________\n",
    "## Models Evaluations"
   ]
  },
  {
   "cell_type": "code",
   "execution_count": 52,
   "metadata": {},
   "outputs": [
    {
     "name": "stdout",
     "output_type": "stream",
     "text": [
      "RMSE 0.49634957676275826\n"
     ]
    },
    {
     "data": {
      "image/png": "[encoded data removed]",
      "text/plain": [
       "<Figure size 432x288 with 1 Axes>"
      ]
     },
     "metadata": {},
     "output_type": "display_data"
    }
   ],
   "source": [
    "rmse = np.sqrt(mean_squared_error(y_test, lr_pred))\n",
    "print('RMSE', rmse)\n",
    "plt.scatter(y_test, lr_pred, alpha=0.3)\n",
    "plt.plot(range(0,10), range(0,10), '--r', alpha=0.3, label='Line1')\n",
    "plt.title('Linear Regression')\n",
    "plt.xlabel('True Value')\n",
    "plt.ylabel('Predict Value')\n",
    "plt.show()"
   ]
  },
  {
   "cell_type": "code",
   "execution_count": 53,
   "metadata": {},
   "outputs": [
    {
     "name": "stdout",
     "output_type": "stream",
     "text": [
      "RMSE 0.5076621035071726\n"
     ]
    },
    {
     "data": {
      "image/png": "[encoded data removed]",
      "text/plain": [
       "<Figure size 432x288 with 1 Axes>"
      ]
     },
     "metadata": {},
     "output_type": "display_data"
    }
   ],
   "source": [
    "rmse = np.sqrt(mean_squared_error(y_test, rf_pred))\n",
    "print('RMSE', rmse)\n",
    "plt.scatter(y_test, rf_pred, alpha=0.3)\n",
    "plt.plot(range(0,10), range(0,10), '--r', alpha=0.3, label='Line1')\n",
    "plt.title('Random Forest Regression')\n",
    "plt.xlabel('True Value')\n",
    "plt.ylabel('Predict Value')\n",
    "plt.show()"
   ]
  },
  {
   "cell_type": "code",
   "execution_count": 54,
   "metadata": {},
   "outputs": [
    {
     "name": "stdout",
     "output_type": "stream",
     "text": [
      "RMSE 0.5077259956949518\n"
     ]
    },
    {
     "data": {
      "image/png": "[encoded data removed]",
      "text/plain": [
       "<Figure size 432x288 with 1 Axes>"
      ]
     },
     "metadata": {},
     "output_type": "display_data"
    }
   ],
   "source": [
    "rmse = np.sqrt(mean_squared_error(y_test, kn_pred))\n",
    "print('RMSE', rmse)\n",
    "plt.scatter(y_test, kn_pred, alpha=0.3)\n",
    "plt.plot(range(0,10), range(0,10), '--r', alpha=0.3, label='Line1')\n",
    "plt.title('K-Nearest Neighbour Regression')\n",
    "plt.xlabel('True Value')\n",
    "plt.ylabel('Predict Value')\n",
    "plt.show()"
   ]
  },
  {
   "cell_type": "markdown",
   "metadata": {},
   "source": [
    "______________________\n",
    "## Prepare Submission"
   ]
  },
  {
   "cell_type": "code",
   "execution_count": null,
   "metadata": {},
   "outputs": [],
   "source": [
    "df_prediction = df_test[X_columns].fillna(0.0)\n",
    "df_test['log_price'] = model.predict(df_prediction)\n",
    "df_test[['id', 'log_price']]"
   ]
  },
  {
   "cell_type": "code",
   "execution_count": null,
   "metadata": {},
   "outputs": [],
   "source": [
    "df_test[['id', 'log_price']].to_csv('submission_linear_regression.csv', index=False)"
   ]
  }
 ],
 "metadata": {
  "kernelspec": {
   "display_name": "Python 3",
   "language": "python",
   "name": "python3"
  },
  "language_info": {
   "codemirror_mode": {
    "name": "ipython",
    "version": 3
   },
   "file_extension": ".py",
   "mimetype": "text/x-python",
   "name": "python",
   "nbconvert_exporter": "python",
   "pygments_lexer": "ipython3",
   "version": "3.7.1"
  }
 },
 "nbformat": 4,
 "nbformat_minor": 2
}
