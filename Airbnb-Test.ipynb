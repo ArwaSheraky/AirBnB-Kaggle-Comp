{
 "cells": [
  {
   "cell_type": "markdown",
   "metadata": {},
   "source": [
    "# Airbnb Regression Test"
   ]
  },
  {
   "cell_type": "code",
   "execution_count": 1,
   "metadata": {},
   "outputs": [],
   "source": [
    "# import the libraries\n",
    "\n",
    "%matplotlib inline\n",
    "\n",
    "import pandas as pd\n",
    "import numpy as np\n",
    "import scipy\n",
    "import matplotlib.pyplot as plt\n",
    "import seaborn as sns\n",
    "\n",
    "# sklearn :: utils\n",
    "from sklearn.model_selection import train_test_split\n",
    "\n",
    "# sklearn :: models\n",
    "from sklearn.ensemble import RandomForestRegressor\n",
    "from sklearn.ensemble import GradientBoostingRegressor\n",
    "from sklearn.linear_model import Lasso\n",
    "\n",
    "# convert scientific notation to decimals\n",
    "pd.set_option('display.float_format', lambda x: '%.2f' % x)\n",
    "sns.set_style('whitegrid')"
   ]
  },
  {
   "cell_type": "markdown",
   "metadata": {},
   "source": [
    "__________________\n",
    "## Load Data"
   ]
  },
  {
   "cell_type": "code",
   "execution_count": 2,
   "metadata": {},
   "outputs": [],
   "source": [
    "df = pd.read_csv('data/train.csv')\n",
    "df_test = pd.read_csv('data/test.csv')"
   ]
  },
  {
   "cell_type": "code",
   "execution_count": 3,
   "metadata": {},
   "outputs": [
    {
     "data": {
      "text/html": [
       "<div>\n",
       "<style scoped>\n",
       "    .dataframe tbody tr th:only-of-type {\n",
       "        vertical-align: middle;\n",
       "    }\n",
       "\n",
       "    .dataframe tbody tr th {\n",
       "        vertical-align: top;\n",
       "    }\n",
       "\n",
       "    .dataframe thead th {\n",
       "        text-align: right;\n",
       "    }\n",
       "</style>\n",
       "<table border=\"1\" class=\"dataframe\">\n",
       "  <thead>\n",
       "    <tr style=\"text-align: right;\">\n",
       "      <th></th>\n",
       "      <th>id</th>\n",
       "      <th>log_price</th>\n",
       "      <th>property_type</th>\n",
       "      <th>room_type</th>\n",
       "      <th>amenities</th>\n",
       "      <th>accommodates</th>\n",
       "      <th>bathrooms</th>\n",
       "      <th>bed_type</th>\n",
       "      <th>cancellation_policy</th>\n",
       "      <th>cleaning_fee</th>\n",
       "      <th>...</th>\n",
       "      <th>latitude</th>\n",
       "      <th>longitude</th>\n",
       "      <th>name</th>\n",
       "      <th>neighbourhood</th>\n",
       "      <th>number_of_reviews</th>\n",
       "      <th>review_scores_rating</th>\n",
       "      <th>thumbnail_url</th>\n",
       "      <th>zipcode</th>\n",
       "      <th>bedrooms</th>\n",
       "      <th>beds</th>\n",
       "    </tr>\n",
       "  </thead>\n",
       "  <tbody>\n",
       "    <tr>\n",
       "      <th>0</th>\n",
       "      <td>13662370</td>\n",
       "      <td>3.81</td>\n",
       "      <td>House</td>\n",
       "      <td>Private room</td>\n",
       "      <td>{TV,Internet,\"Wireless Internet\",\"Air conditio...</td>\n",
       "      <td>2</td>\n",
       "      <td>1.50</td>\n",
       "      <td>Real Bed</td>\n",
       "      <td>strict</td>\n",
       "      <td>True</td>\n",
       "      <td>...</td>\n",
       "      <td>41.85</td>\n",
       "      <td>-87.68</td>\n",
       "      <td>Pilsen Arts Community Custom Home</td>\n",
       "      <td>Pilsen</td>\n",
       "      <td>17</td>\n",
       "      <td>97.00</td>\n",
       "      <td>https://a0.muscache.com/im/pictures/81318153/a...</td>\n",
       "      <td>60608</td>\n",
       "      <td>1.00</td>\n",
       "      <td>1.00</td>\n",
       "    </tr>\n",
       "    <tr>\n",
       "      <th>1</th>\n",
       "      <td>4765892</td>\n",
       "      <td>4.94</td>\n",
       "      <td>Apartment</td>\n",
       "      <td>Entire home/apt</td>\n",
       "      <td>{TV,Internet,\"Wireless Internet\",\"Air conditio...</td>\n",
       "      <td>2</td>\n",
       "      <td>2.00</td>\n",
       "      <td>Real Bed</td>\n",
       "      <td>strict</td>\n",
       "      <td>True</td>\n",
       "      <td>...</td>\n",
       "      <td>34.07</td>\n",
       "      <td>-118.25</td>\n",
       "      <td>Apartment 5 minutes from DTLA &amp; Dodger Stadium</td>\n",
       "      <td>Echo Park</td>\n",
       "      <td>2</td>\n",
       "      <td>100.00</td>\n",
       "      <td>https://a0.muscache.com/im/pictures/aa00250e-0...</td>\n",
       "      <td>90012</td>\n",
       "      <td>1.00</td>\n",
       "      <td>1.00</td>\n",
       "    </tr>\n",
       "    <tr>\n",
       "      <th>2</th>\n",
       "      <td>21169968</td>\n",
       "      <td>4.94</td>\n",
       "      <td>Apartment</td>\n",
       "      <td>Entire home/apt</td>\n",
       "      <td>{TV,\"Cable TV\",\"Wireless Internet\",\"Air condit...</td>\n",
       "      <td>5</td>\n",
       "      <td>1.00</td>\n",
       "      <td>Real Bed</td>\n",
       "      <td>moderate</td>\n",
       "      <td>True</td>\n",
       "      <td>...</td>\n",
       "      <td>40.70</td>\n",
       "      <td>-73.92</td>\n",
       "      <td>Brand New Huge 2bdr apartment(L,M train 2 min)</td>\n",
       "      <td>Bushwick</td>\n",
       "      <td>25</td>\n",
       "      <td>88.00</td>\n",
       "      <td>https://a0.muscache.com/im/pictures/d9220535-c...</td>\n",
       "      <td>11237</td>\n",
       "      <td>2.00</td>\n",
       "      <td>3.00</td>\n",
       "    </tr>\n",
       "    <tr>\n",
       "      <th>3</th>\n",
       "      <td>7939196</td>\n",
       "      <td>4.87</td>\n",
       "      <td>Apartment</td>\n",
       "      <td>Entire home/apt</td>\n",
       "      <td>{\"Cable TV\",Internet,\"Wireless Internet\",\"Air ...</td>\n",
       "      <td>6</td>\n",
       "      <td>1.00</td>\n",
       "      <td>Real Bed</td>\n",
       "      <td>strict</td>\n",
       "      <td>True</td>\n",
       "      <td>...</td>\n",
       "      <td>40.74</td>\n",
       "      <td>-73.99</td>\n",
       "      <td>Grande Super Large APT !!!</td>\n",
       "      <td>Flatiron District</td>\n",
       "      <td>12</td>\n",
       "      <td>82.00</td>\n",
       "      <td>NaN</td>\n",
       "      <td>10010</td>\n",
       "      <td>1.00</td>\n",
       "      <td>3.00</td>\n",
       "    </tr>\n",
       "    <tr>\n",
       "      <th>4</th>\n",
       "      <td>18161036</td>\n",
       "      <td>3.66</td>\n",
       "      <td>House</td>\n",
       "      <td>Private room</td>\n",
       "      <td>{Internet,\"Wireless Internet\",\"Air conditionin...</td>\n",
       "      <td>2</td>\n",
       "      <td>1.00</td>\n",
       "      <td>Real Bed</td>\n",
       "      <td>flexible</td>\n",
       "      <td>True</td>\n",
       "      <td>...</td>\n",
       "      <td>34.05</td>\n",
       "      <td>-117.73</td>\n",
       "      <td>Private Cozy and Clean Rooms in Pomona</td>\n",
       "      <td>NaN</td>\n",
       "      <td>2</td>\n",
       "      <td>100.00</td>\n",
       "      <td>https://a0.muscache.com/im/pictures/e0c9b2f9-a...</td>\n",
       "      <td>91766</td>\n",
       "      <td>1.00</td>\n",
       "      <td>1.00</td>\n",
       "    </tr>\n",
       "  </tbody>\n",
       "</table>\n",
       "<p>5 rows × 29 columns</p>\n",
       "</div>"
      ],
      "text/plain": [
       "         id  log_price property_type        room_type  \\\n",
       "0  13662370       3.81         House     Private room   \n",
       "1   4765892       4.94     Apartment  Entire home/apt   \n",
       "2  21169968       4.94     Apartment  Entire home/apt   \n",
       "3   7939196       4.87     Apartment  Entire home/apt   \n",
       "4  18161036       3.66         House     Private room   \n",
       "\n",
       "                                           amenities  accommodates  bathrooms  \\\n",
       "0  {TV,Internet,\"Wireless Internet\",\"Air conditio...             2       1.50   \n",
       "1  {TV,Internet,\"Wireless Internet\",\"Air conditio...             2       2.00   \n",
       "2  {TV,\"Cable TV\",\"Wireless Internet\",\"Air condit...             5       1.00   \n",
       "3  {\"Cable TV\",Internet,\"Wireless Internet\",\"Air ...             6       1.00   \n",
       "4  {Internet,\"Wireless Internet\",\"Air conditionin...             2       1.00   \n",
       "\n",
       "   bed_type cancellation_policy  cleaning_fee  ...  latitude longitude  \\\n",
       "0  Real Bed              strict          True  ...     41.85    -87.68   \n",
       "1  Real Bed              strict          True  ...     34.07   -118.25   \n",
       "2  Real Bed            moderate          True  ...     40.70    -73.92   \n",
       "3  Real Bed              strict          True  ...     40.74    -73.99   \n",
       "4  Real Bed            flexible          True  ...     34.05   -117.73   \n",
       "\n",
       "                                             name      neighbourhood  \\\n",
       "0               Pilsen Arts Community Custom Home             Pilsen   \n",
       "1  Apartment 5 minutes from DTLA & Dodger Stadium          Echo Park   \n",
       "2  Brand New Huge 2bdr apartment(L,M train 2 min)           Bushwick   \n",
       "3                      Grande Super Large APT !!!  Flatiron District   \n",
       "4          Private Cozy and Clean Rooms in Pomona                NaN   \n",
       "\n",
       "  number_of_reviews review_scores_rating  \\\n",
       "0                17                97.00   \n",
       "1                 2               100.00   \n",
       "2                25                88.00   \n",
       "3                12                82.00   \n",
       "4                 2               100.00   \n",
       "\n",
       "                                       thumbnail_url zipcode bedrooms  beds  \n",
       "0  https://a0.muscache.com/im/pictures/81318153/a...   60608     1.00  1.00  \n",
       "1  https://a0.muscache.com/im/pictures/aa00250e-0...   90012     1.00  1.00  \n",
       "2  https://a0.muscache.com/im/pictures/d9220535-c...   11237     2.00  3.00  \n",
       "3                                                NaN   10010     1.00  3.00  \n",
       "4  https://a0.muscache.com/im/pictures/e0c9b2f9-a...   91766     1.00  1.00  \n",
       "\n",
       "[5 rows x 29 columns]"
      ]
     },
     "execution_count": 3,
     "metadata": {},
     "output_type": "execute_result"
    }
   ],
   "source": [
    "df.head()"
   ]
  },
  {
   "cell_type": "code",
   "execution_count": 4,
   "metadata": {},
   "outputs": [
    {
     "data": {
      "text/html": [
       "<div>\n",
       "<style scoped>\n",
       "    .dataframe tbody tr th:only-of-type {\n",
       "        vertical-align: middle;\n",
       "    }\n",
       "\n",
       "    .dataframe tbody tr th {\n",
       "        vertical-align: top;\n",
       "    }\n",
       "\n",
       "    .dataframe thead th {\n",
       "        text-align: right;\n",
       "    }\n",
       "</style>\n",
       "<table border=\"1\" class=\"dataframe\">\n",
       "  <thead>\n",
       "    <tr style=\"text-align: right;\">\n",
       "      <th></th>\n",
       "      <th>id</th>\n",
       "      <th>property_type</th>\n",
       "      <th>room_type</th>\n",
       "      <th>amenities</th>\n",
       "      <th>accommodates</th>\n",
       "      <th>bathrooms</th>\n",
       "      <th>bed_type</th>\n",
       "      <th>cancellation_policy</th>\n",
       "      <th>cleaning_fee</th>\n",
       "      <th>city</th>\n",
       "      <th>...</th>\n",
       "      <th>latitude</th>\n",
       "      <th>longitude</th>\n",
       "      <th>name</th>\n",
       "      <th>neighbourhood</th>\n",
       "      <th>number_of_reviews</th>\n",
       "      <th>review_scores_rating</th>\n",
       "      <th>thumbnail_url</th>\n",
       "      <th>zipcode</th>\n",
       "      <th>bedrooms</th>\n",
       "      <th>beds</th>\n",
       "    </tr>\n",
       "  </thead>\n",
       "  <tbody>\n",
       "    <tr>\n",
       "      <th>0</th>\n",
       "      <td>986942</td>\n",
       "      <td>Apartment</td>\n",
       "      <td>Private room</td>\n",
       "      <td>{Internet,\"Wireless Internet\",\"Air conditionin...</td>\n",
       "      <td>2</td>\n",
       "      <td>1.00</td>\n",
       "      <td>Real Bed</td>\n",
       "      <td>flexible</td>\n",
       "      <td>False</td>\n",
       "      <td>NYC</td>\n",
       "      <td>...</td>\n",
       "      <td>40.83</td>\n",
       "      <td>-73.95</td>\n",
       "      <td>En suite room  Upper West Side</td>\n",
       "      <td>Hamilton Heights</td>\n",
       "      <td>1</td>\n",
       "      <td>100.00</td>\n",
       "      <td>https://a0.muscache.com/im/pictures/90125799/6...</td>\n",
       "      <td>10031</td>\n",
       "      <td>1.00</td>\n",
       "      <td>1.00</td>\n",
       "    </tr>\n",
       "    <tr>\n",
       "      <th>1</th>\n",
       "      <td>16436737</td>\n",
       "      <td>House</td>\n",
       "      <td>Private room</td>\n",
       "      <td>{Internet,\"Wireless Internet\",\"Air conditionin...</td>\n",
       "      <td>4</td>\n",
       "      <td>1.50</td>\n",
       "      <td>Real Bed</td>\n",
       "      <td>moderate</td>\n",
       "      <td>True</td>\n",
       "      <td>DC</td>\n",
       "      <td>...</td>\n",
       "      <td>38.92</td>\n",
       "      <td>-77.03</td>\n",
       "      <td>Cozy or King BR in a grand victorian</td>\n",
       "      <td>Columbia Heights</td>\n",
       "      <td>146</td>\n",
       "      <td>96.00</td>\n",
       "      <td>https://a0.muscache.com/im/pictures/64128167/5...</td>\n",
       "      <td>20009</td>\n",
       "      <td>1.00</td>\n",
       "      <td>2.00</td>\n",
       "    </tr>\n",
       "    <tr>\n",
       "      <th>2</th>\n",
       "      <td>18209634</td>\n",
       "      <td>Apartment</td>\n",
       "      <td>Private room</td>\n",
       "      <td>{TV,\"Cable TV\",\"Wireless Internet\",\"Air condit...</td>\n",
       "      <td>1</td>\n",
       "      <td>1.00</td>\n",
       "      <td>Real Bed</td>\n",
       "      <td>flexible</td>\n",
       "      <td>True</td>\n",
       "      <td>NYC</td>\n",
       "      <td>...</td>\n",
       "      <td>40.67</td>\n",
       "      <td>-73.95</td>\n",
       "      <td>COMFORTABLE &amp; COZY-2 STOPS BARCLAY</td>\n",
       "      <td>Crown Heights</td>\n",
       "      <td>10</td>\n",
       "      <td>92.00</td>\n",
       "      <td>https://a0.muscache.com/im/pictures/56585377/e...</td>\n",
       "      <td>11225.0</td>\n",
       "      <td>1.00</td>\n",
       "      <td>1.00</td>\n",
       "    </tr>\n",
       "    <tr>\n",
       "      <th>3</th>\n",
       "      <td>15027024</td>\n",
       "      <td>Apartment</td>\n",
       "      <td>Private room</td>\n",
       "      <td>{TV,\"Wireless Internet\",\"Air conditioning\",Kit...</td>\n",
       "      <td>2</td>\n",
       "      <td>1.00</td>\n",
       "      <td>Real Bed</td>\n",
       "      <td>flexible</td>\n",
       "      <td>False</td>\n",
       "      <td>NYC</td>\n",
       "      <td>...</td>\n",
       "      <td>40.67</td>\n",
       "      <td>-73.95</td>\n",
       "      <td>Sunny &amp; Colorful Private BR in Crown Heights</td>\n",
       "      <td>Crown Heights</td>\n",
       "      <td>0</td>\n",
       "      <td>nan</td>\n",
       "      <td>https://a0.muscache.com/im/pictures/d76d0e9a-e...</td>\n",
       "      <td>11225.0</td>\n",
       "      <td>1.00</td>\n",
       "      <td>1.00</td>\n",
       "    </tr>\n",
       "    <tr>\n",
       "      <th>4</th>\n",
       "      <td>18074243</td>\n",
       "      <td>Apartment</td>\n",
       "      <td>Entire home/apt</td>\n",
       "      <td>{TV,\"Cable TV\",Internet,\"Wireless Internet\",\"A...</td>\n",
       "      <td>6</td>\n",
       "      <td>1.00</td>\n",
       "      <td>Real Bed</td>\n",
       "      <td>strict</td>\n",
       "      <td>True</td>\n",
       "      <td>NYC</td>\n",
       "      <td>...</td>\n",
       "      <td>40.74</td>\n",
       "      <td>-73.91</td>\n",
       "      <td>Lovely &amp; Cozy Apartment in Queens!</td>\n",
       "      <td>Woodside</td>\n",
       "      <td>45</td>\n",
       "      <td>93.00</td>\n",
       "      <td>https://a0.muscache.com/im/pictures/435d8af0-f...</td>\n",
       "      <td>11377</td>\n",
       "      <td>2.00</td>\n",
       "      <td>3.00</td>\n",
       "    </tr>\n",
       "  </tbody>\n",
       "</table>\n",
       "<p>5 rows × 28 columns</p>\n",
       "</div>"
      ],
      "text/plain": [
       "         id property_type        room_type  \\\n",
       "0    986942     Apartment     Private room   \n",
       "1  16436737         House     Private room   \n",
       "2  18209634     Apartment     Private room   \n",
       "3  15027024     Apartment     Private room   \n",
       "4  18074243     Apartment  Entire home/apt   \n",
       "\n",
       "                                           amenities  accommodates  bathrooms  \\\n",
       "0  {Internet,\"Wireless Internet\",\"Air conditionin...             2       1.00   \n",
       "1  {Internet,\"Wireless Internet\",\"Air conditionin...             4       1.50   \n",
       "2  {TV,\"Cable TV\",\"Wireless Internet\",\"Air condit...             1       1.00   \n",
       "3  {TV,\"Wireless Internet\",\"Air conditioning\",Kit...             2       1.00   \n",
       "4  {TV,\"Cable TV\",Internet,\"Wireless Internet\",\"A...             6       1.00   \n",
       "\n",
       "   bed_type cancellation_policy  cleaning_fee city  ...  latitude longitude  \\\n",
       "0  Real Bed            flexible         False  NYC  ...     40.83    -73.95   \n",
       "1  Real Bed            moderate          True   DC  ...     38.92    -77.03   \n",
       "2  Real Bed            flexible          True  NYC  ...     40.67    -73.95   \n",
       "3  Real Bed            flexible         False  NYC  ...     40.67    -73.95   \n",
       "4  Real Bed              strict          True  NYC  ...     40.74    -73.91   \n",
       "\n",
       "                                           name     neighbourhood  \\\n",
       "0                En suite room  Upper West Side  Hamilton Heights   \n",
       "1          Cozy or King BR in a grand victorian  Columbia Heights   \n",
       "2            COMFORTABLE & COZY-2 STOPS BARCLAY     Crown Heights   \n",
       "3  Sunny & Colorful Private BR in Crown Heights     Crown Heights   \n",
       "4            Lovely & Cozy Apartment in Queens!          Woodside   \n",
       "\n",
       "  number_of_reviews review_scores_rating  \\\n",
       "0                 1               100.00   \n",
       "1               146                96.00   \n",
       "2                10                92.00   \n",
       "3                 0                  nan   \n",
       "4                45                93.00   \n",
       "\n",
       "                                       thumbnail_url  zipcode  bedrooms  beds  \n",
       "0  https://a0.muscache.com/im/pictures/90125799/6...    10031      1.00  1.00  \n",
       "1  https://a0.muscache.com/im/pictures/64128167/5...    20009      1.00  2.00  \n",
       "2  https://a0.muscache.com/im/pictures/56585377/e...  11225.0      1.00  1.00  \n",
       "3  https://a0.muscache.com/im/pictures/d76d0e9a-e...  11225.0      1.00  1.00  \n",
       "4  https://a0.muscache.com/im/pictures/435d8af0-f...    11377      2.00  3.00  \n",
       "\n",
       "[5 rows x 28 columns]"
      ]
     },
     "execution_count": 4,
     "metadata": {},
     "output_type": "execute_result"
    }
   ],
   "source": [
    "df_test.head()"
   ]
  },
  {
   "cell_type": "markdown",
   "metadata": {},
   "source": [
    "_________________________\n",
    "# Data Cleaning"
   ]
  },
  {
   "cell_type": "markdown",
   "metadata": {},
   "source": [
    "## Change Format"
   ]
  },
  {
   "cell_type": "markdown",
   "metadata": {},
   "source": [
    "### 1. True & False"
   ]
  },
  {
   "cell_type": "code",
   "execution_count": 5,
   "metadata": {},
   "outputs": [],
   "source": [
    "# Handel True and False values\n",
    "\n",
    "def change_tf_format(df_airbnb):\n",
    "    \n",
    "    df_airbnb=df_airbnb.replace(to_replace='t', value=True)\n",
    "    df_airbnb=df_airbnb.replace(to_replace='f', value=False)\n",
    "    "
   ]
  },
  {
   "cell_type": "markdown",
   "metadata": {},
   "source": [
    "### 2. Dates"
   ]
  },
  {
   "cell_type": "code",
   "execution_count": 6,
   "metadata": {},
   "outputs": [],
   "source": [
    "# Date Columns\n",
    "\n",
    "import time\n",
    "import datetime\n",
    "\n",
    "def format_date(date_string):\n",
    "\n",
    "    if pd.isnull(date_string):\n",
    "        return np.nan\n",
    "    \n",
    "    if type(date_string) != str:\n",
    "        return date_string\n",
    "    \n",
    "    date_timestamp = time.mktime(datetime.datetime.strptime(date_string, \"%m/%d/%Y\").timetuple())    \n",
    "    return date_timestamp"
   ]
  },
  {
   "cell_type": "markdown",
   "metadata": {},
   "source": [
    "### 3. Clean & Split Amenities"
   ]
  },
  {
   "cell_type": "code",
   "execution_count": 7,
   "metadata": {},
   "outputs": [],
   "source": [
    "# amenities\n",
    "# Reference: https://www.kaggle.com/naamaavi/airbnb-price-prediction-regression-project\n",
    "\n",
    "def clean_split_string(s):\n",
    "    \n",
    "    for c in ['\"','{','}','[',']']:\n",
    "        if (c in s):\n",
    "            s = s.replace(c,'')\n",
    "        \n",
    "    for c in ['/',':',' ','-','.','&',')','(','\\'','/']:\n",
    "        if (c in s):\n",
    "            s = s.replace(c,'_')\n",
    "     \n",
    "    if (',' not in s):\n",
    "        return [s] #single amenity as a list\n",
    "    \n",
    "    return s.split(',') #return list of amenities"
   ]
  },
  {
   "cell_type": "code",
   "execution_count": 8,
   "metadata": {},
   "outputs": [],
   "source": [
    "def clean_data(df_airbnb):\n",
    "    \n",
    "    # True & False\n",
    "    change_tf_format(df_airbnb)\n",
    "    \n",
    "    # Dates\n",
    "    df_airbnb['first_review'] = df_airbnb['first_review'].apply(format_date)\n",
    "    df_airbnb['last_review'] = df_airbnb['last_review'].apply(format_date)\n",
    "    df_airbnb['host_since'] = df_airbnb['host_since'].apply(format_date)\n",
    "        "
   ]
  },
  {
   "cell_type": "markdown",
   "metadata": {},
   "source": [
    "## Missing Values"
   ]
  },
  {
   "cell_type": "code",
   "execution_count": 9,
   "metadata": {},
   "outputs": [
    {
     "name": "stdout",
     "output_type": "stream",
     "text": [
      "Train Data:\n",
      " id                            0\n",
      "log_price                     0\n",
      "property_type                 0\n",
      "room_type                     0\n",
      "amenities                     0\n",
      "accommodates                  0\n",
      "bathrooms                   133\n",
      "bed_type                      0\n",
      "cancellation_policy           0\n",
      "cleaning_fee                  0\n",
      "city                          0\n",
      "description                   0\n",
      "first_review              10856\n",
      "host_has_profile_pic        127\n",
      "host_identity_verified      127\n",
      "host_response_rate        12551\n",
      "host_since                  127\n",
      "instant_bookable              0\n",
      "last_review               10826\n",
      "latitude                      0\n",
      "longitude                     0\n",
      "name                          0\n",
      "neighbourhood              4675\n",
      "number_of_reviews             0\n",
      "review_scores_rating      11450\n",
      "thumbnail_url              5629\n",
      "zipcode                     645\n",
      "bedrooms                     63\n",
      "beds                         85\n",
      "dtype: int64\n",
      "\n",
      "Test Data:\n",
      " id                           0\n",
      "property_type                0\n",
      "room_type                    0\n",
      "amenities                    0\n",
      "accommodates                 0\n",
      "bathrooms                   67\n",
      "bed_type                     0\n",
      "cancellation_policy          0\n",
      "cleaning_fee                 0\n",
      "city                         0\n",
      "description                  0\n",
      "first_review              5008\n",
      "host_has_profile_pic        61\n",
      "host_identity_verified      61\n",
      "host_response_rate        5748\n",
      "host_since                  61\n",
      "instant_bookable             0\n",
      "last_review               5001\n",
      "latitude                     0\n",
      "longitude                    0\n",
      "name                         0\n",
      "neighbourhood             2197\n",
      "number_of_reviews            0\n",
      "review_scores_rating      5272\n",
      "thumbnail_url             2587\n",
      "zipcode                    321\n",
      "bedrooms                    28\n",
      "beds                        46\n",
      "dtype: int64\n"
     ]
    }
   ],
   "source": [
    "print(\"Train Data:\\n\" , df.isnull().sum())\n",
    "print('')\n",
    "print(\"Test Data:\\n\" , df_test.isnull().sum())"
   ]
  },
  {
   "cell_type": "markdown",
   "metadata": {},
   "source": [
    "### 1. Review scores rating"
   ]
  },
  {
   "cell_type": "code",
   "execution_count": 10,
   "metadata": {},
   "outputs": [],
   "source": [
    "def mv_review_scores(df_airbnb):\n",
    "    \n",
    "    # Group by Highest Correlation Column\n",
    "    reviews_mean_rsr = df_airbnb.groupby('number_of_reviews')['review_scores_rating'].mean()\n",
    "    \n",
    "    # Fill the missing values\n",
    "    for idx in df_airbnb.index[df_airbnb['review_scores_rating'].isnull()]:\n",
    "        n_reviews = df_airbnb.loc[idx,'review_scores_rating']\n",
    "\n",
    "        if n_reviews == 0: # most of the missing values are because there aren't any reviews to calculate the rate from.\n",
    "            df_airbnb.at[idx,'review_scores_rating'] = 0\n",
    "\n",
    "        elif n_reviews > 0:\n",
    "            df_airbnb.at[idx,'review_scores_rating'] = reviews_mean_rsr.iloc[int(n_reviews)]\n",
    "\n",
    "        else: #If it's null\n",
    "            df_airbnb.at[idx,'review_scores_rating'] = df_airbnb['review_scores_rating'].mean()"
   ]
  },
  {
   "cell_type": "markdown",
   "metadata": {},
   "source": [
    "### 2. Bedrooms"
   ]
  },
  {
   "cell_type": "code",
   "execution_count": 11,
   "metadata": {},
   "outputs": [],
   "source": [
    "#Bedrooms\n",
    "\n",
    "def mv_bedrooms(df_airbnb):\n",
    "    \n",
    "    acc_med_bedrooms = df_airbnb.groupby('accommodates', sort=False)['bedrooms'].median()\n",
    "    \n",
    "    for idx in df_airbnb.index[df_airbnb['bedrooms'].isnull()]:\n",
    "        n_acc = df_airbnb.loc[idx,'accommodates']\n",
    "\n",
    "        if n_acc > 0:\n",
    "            df_airbnb.at[idx,'bedrooms'] = acc_med_bedrooms.iloc[int(n_acc)]\n",
    "\n",
    "        else: # If 'accommodates' is null\n",
    "            df_airbnb.at[idx,'bedrooms'] = df_airbnb['bedrooms'].median()\n"
   ]
  },
  {
   "cell_type": "markdown",
   "metadata": {},
   "source": [
    "### 3. Bathrooms"
   ]
  },
  {
   "cell_type": "code",
   "execution_count": 12,
   "metadata": {
    "scrolled": false
   },
   "outputs": [],
   "source": [
    "#Bathrooms\n",
    "\n",
    "import math\n",
    "\n",
    "def mv_bathrooms(df_airbnb):\n",
    "    \n",
    "    bedrooms_med_baths = df_airbnb.groupby('bedrooms', sort=False)['bathrooms'].median()\n",
    "    \n",
    "    for idx in df_airbnb.index[df_airbnb['bathrooms'].isnull()]:\n",
    "        n_bedrms = df_airbnb.loc[idx,'bedrooms']\n",
    "\n",
    "        #if(n_bedrms > 0): #replace by the median number of bathrooms\n",
    "        df_airbnb.at[idx,'bathrooms'] = bedrooms_med_baths.iloc[int(n_bedrms)]\n",
    "\n",
    "        #else: #replace by the median bathroom\n",
    "            #df_airbnb.at[idx,'bathrooms'] = df_airbnb['bathrooms'].median()\n"
   ]
  },
  {
   "cell_type": "code",
   "execution_count": 13,
   "metadata": {},
   "outputs": [],
   "source": [
    "def fill_missing_values(df_airbnb):\n",
    "    \n",
    "    mv_review_scores(df_airbnb)\n",
    "    mv_bedrooms(df_airbnb)\n",
    "    mv_bathrooms(df_airbnb)\n",
    "    "
   ]
  },
  {
   "cell_type": "markdown",
   "metadata": {},
   "source": [
    "_________________________________\n",
    "## Feature Engineering"
   ]
  },
  {
   "cell_type": "code",
   "execution_count": 14,
   "metadata": {},
   "outputs": [],
   "source": [
    "# Amenities:\n",
    "\n",
    "def get_amenities(df_airbnb):\n",
    "    \n",
    "    unique_amenities = []\n",
    "\n",
    "    for idx, a_list in enumerate(df_airbnb['amenities']):        \n",
    "        for a in a_list:\n",
    "            if (a not in df_airbnb.columns):\n",
    "                unique_amenities += [a]\n",
    "                df_airbnb[a] = 0\n",
    "            \n",
    "            df_airbnb.at[idx, a] = 1\n",
    "            \n",
    "    return unique_amenities"
   ]
  },
  {
   "cell_type": "code",
   "execution_count": 15,
   "metadata": {},
   "outputs": [],
   "source": [
    "# Dummies for categorical columns\n",
    "\n",
    "def get_dum(df_airbnb):\n",
    "    categorical=['room_type','bed_type','cancellation_policy', 'city']\n",
    "    df_dummies=pd.get_dummies(df_airbnb[categorical])\n",
    "    new_df = pd.concat([df_airbnb, df_dummies], axis=1)\n",
    "    \n",
    "    return new_df, df_dummies"
   ]
  },
  {
   "cell_type": "markdown",
   "metadata": {},
   "source": [
    "________________________\n",
    "## Apply Changes"
   ]
  },
  {
   "cell_type": "code",
   "execution_count": 16,
   "metadata": {},
   "outputs": [],
   "source": [
    "# For training data\n",
    "\n",
    "clean_data(df)\n",
    "df['amenities'] = df['amenities'].apply(clean_split_string)\n",
    "fill_missing_values(df)\n",
    "unique_am = get_amenities(df)\n",
    "df, df_dum = get_dum(df)\n"
   ]
  },
  {
   "cell_type": "code",
   "execution_count": 18,
   "metadata": {},
   "outputs": [
    {
     "data": {
      "text/plain": [
       "Index(['id', 'log_price', 'property_type', 'room_type', 'amenities',\n",
       "       'accommodates', 'bathrooms', 'bed_type', 'cancellation_policy',\n",
       "       'cleaning_fee',\n",
       "       ...\n",
       "       'cancellation_policy_moderate', 'cancellation_policy_strict',\n",
       "       'cancellation_policy_super_strict_30',\n",
       "       'cancellation_policy_super_strict_60', 'city_Boston', 'city_Chicago',\n",
       "       'city_DC', 'city_LA', 'city_NYC', 'city_SF'],\n",
       "      dtype='object', length=174)"
      ]
     },
     "execution_count": 18,
     "metadata": {},
     "output_type": "execute_result"
    }
   ],
   "source": [
    "df.columns"
   ]
  },
  {
   "cell_type": "code",
   "execution_count": 19,
   "metadata": {},
   "outputs": [],
   "source": [
    "# For testing data\n",
    "\n",
    "#clean_data(df_test)\n",
    "fill_missing_values(df_test)\n",
    "df_test['amenities'] = df_test['amenities'].apply(clean_split_string)\n",
    "test_unique_am = get_amenities(df_test)\n",
    "df_test, df_dummies_test = get_dum(df_test)\n"
   ]
  },
  {
   "cell_type": "code",
   "execution_count": 20,
   "metadata": {},
   "outputs": [
    {
     "data": {
      "text/plain": [
       "Index(['id', 'property_type', 'room_type', 'amenities', 'accommodates',\n",
       "       'bathrooms', 'bed_type', 'cancellation_policy', 'cleaning_fee', 'city',\n",
       "       ...\n",
       "       'cancellation_policy_moderate', 'cancellation_policy_strict',\n",
       "       'cancellation_policy_super_strict_30',\n",
       "       'cancellation_policy_super_strict_60', 'city_Boston', 'city_Chicago',\n",
       "       'city_DC', 'city_LA', 'city_NYC', 'city_SF'],\n",
       "      dtype='object', length=176)"
      ]
     },
     "execution_count": 20,
     "metadata": {},
     "output_type": "execute_result"
    }
   ],
   "source": [
    "df_test.columns"
   ]
  },
  {
   "cell_type": "markdown",
   "metadata": {},
   "source": [
    "______________________________\n",
    "## Train Data"
   ]
  },
  {
   "cell_type": "code",
   "execution_count": 26,
   "metadata": {},
   "outputs": [],
   "source": [
    "X_columns = ['bathrooms', 'accommodates','number_of_reviews'] + list(set(unique_am) & set(test_unique_am))"
   ]
  },
  {
   "cell_type": "code",
   "execution_count": 27,
   "metadata": {},
   "outputs": [
    {
     "name": "stdout",
     "output_type": "stream",
     "text": [
      "(51000, 147)\n"
     ]
    }
   ],
   "source": [
    "X_columns += list(df_dum.columns)\n",
    "y_column = ['log_price']\n",
    "\n",
    "df_train = df[X_columns + y_column]\n",
    "print(df_train.shape)"
   ]
  },
  {
   "cell_type": "code",
   "execution_count": 28,
   "metadata": {},
   "outputs": [],
   "source": [
    "# Train\n",
    "\n",
    "X_train = df_train[X_columns]\n",
    "y_train = df_train[y_column]"
   ]
  },
  {
   "cell_type": "code",
   "execution_count": 29,
   "metadata": {},
   "outputs": [
    {
     "name": "stdout",
     "output_type": "stream",
     "text": [
      "(23111, 146)\n"
     ]
    }
   ],
   "source": [
    "# Test\n",
    "X_test = df_test[X_columns]\n",
    "print(X_test.shape)"
   ]
  },
  {
   "cell_type": "markdown",
   "metadata": {},
   "source": [
    "______________\n",
    "## Train and Test"
   ]
  },
  {
   "cell_type": "code",
   "execution_count": 30,
   "metadata": {},
   "outputs": [
    {
     "ename": "NameError",
     "evalue": "name 'LinearRegression' is not defined",
     "output_type": "error",
     "traceback": [
      "\u001b[1;31m---------------------------------------------------------------------------\u001b[0m",
      "\u001b[1;31mNameError\u001b[0m                                 Traceback (most recent call last)",
      "\u001b[1;32m<ipython-input-30-c0e279c269e1>\u001b[0m in \u001b[0;36m<module>\u001b[1;34m\u001b[0m\n\u001b[0;32m      1\u001b[0m \u001b[1;31m# Linear Regression\u001b[0m\u001b[1;33m\u001b[0m\u001b[1;33m\u001b[0m\u001b[1;33m\u001b[0m\u001b[0m\n\u001b[0;32m      2\u001b[0m \u001b[1;33m\u001b[0m\u001b[0m\n\u001b[1;32m----> 3\u001b[1;33m \u001b[0mlr_model\u001b[0m \u001b[1;33m=\u001b[0m \u001b[0mLinearRegression\u001b[0m\u001b[1;33m(\u001b[0m\u001b[1;33m)\u001b[0m\u001b[1;33m\u001b[0m\u001b[1;33m\u001b[0m\u001b[0m\n\u001b[0m\u001b[0;32m      4\u001b[0m \u001b[0mlr_model\u001b[0m\u001b[1;33m.\u001b[0m\u001b[0mfit\u001b[0m\u001b[1;33m(\u001b[0m\u001b[0mX_train\u001b[0m\u001b[1;33m,\u001b[0m \u001b[0my_train\u001b[0m\u001b[1;33m)\u001b[0m\u001b[1;33m\u001b[0m\u001b[1;33m\u001b[0m\u001b[0m\n\u001b[0;32m      5\u001b[0m \u001b[0mdf_test\u001b[0m\u001b[1;33m[\u001b[0m\u001b[1;34m'log_price'\u001b[0m\u001b[1;33m]\u001b[0m \u001b[1;33m=\u001b[0m \u001b[0mlr_model\u001b[0m\u001b[1;33m.\u001b[0m\u001b[0mpredict\u001b[0m\u001b[1;33m(\u001b[0m\u001b[0mX_test\u001b[0m\u001b[1;33m)\u001b[0m\u001b[1;33m\u001b[0m\u001b[1;33m\u001b[0m\u001b[0m\n",
      "\u001b[1;31mNameError\u001b[0m: name 'LinearRegression' is not defined"
     ]
    }
   ],
   "source": [
    "# Linear Regression\n",
    "\n",
    "lr_model = LinearRegression()\n",
    "lr_model.fit(X_train, y_train)\n",
    "df_test['log_price'] = lr_model.predict(X_test)\n",
    "\n",
    "df_test[['id', 'log_price']].to_csv('submission_v1.csv', index=False)"
   ]
  },
  {
   "cell_type": "code",
   "execution_count": 31,
   "metadata": {},
   "outputs": [
    {
     "name": "stderr",
     "output_type": "stream",
     "text": [
      "C:\\Users\\A-Sha\\Anaconda3\\lib\\site-packages\\sklearn\\utils\\validation.py:761: DataConversionWarning: A column-vector y was passed when a 1d array was expected. Please change the shape of y to (n_samples, ), for example using ravel().\n",
      "  y = column_or_1d(y, warn=True)\n"
     ]
    }
   ],
   "source": [
    "# Gradient Boosting\n",
    "\n",
    "gb_model = GradientBoostingRegressor()\n",
    "gb_model.fit(X_train, y_train)\n",
    "df_test['log_price'] = gb_model.predict(X_test)\n",
    "\n",
    "df_test[['id', 'log_price']].to_csv('submission_v3.csv', index=False)"
   ]
  }
 ],
 "metadata": {
  "kernelspec": {
   "display_name": "Python 3",
   "language": "python",
   "name": "python3"
  },
  "language_info": {
   "codemirror_mode": {
    "name": "ipython",
    "version": 3
   },
   "file_extension": ".py",
   "mimetype": "text/x-python",
   "name": "python",
   "nbconvert_exporter": "python",
   "pygments_lexer": "ipython3",
   "version": "3.7.1"
  }
 },
 "nbformat": 4,
 "nbformat_minor": 2
}
