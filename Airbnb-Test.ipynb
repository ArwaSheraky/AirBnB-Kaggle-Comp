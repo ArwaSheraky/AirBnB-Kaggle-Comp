{
 "cells": [
  {
   "cell_type": "markdown",
   "metadata": {},
   "source": [
    "# Airbnb Regression Test"
   ]
  },
  {
   "cell_type": "code",
   "execution_count": 1,
   "metadata": {},
   "outputs": [],
   "source": [
    "# import the libraries\n",
    "\n",
    "%matplotlib inline\n",
    "\n",
    "import pandas as pd\n",
    "import numpy as np\n",
    "import scipy\n",
    "import matplotlib.pyplot as plt\n",
    "import seaborn as sns\n",
    "\n",
    "# sklearn :: utils\n",
    "from sklearn.model_selection import train_test_split\n",
    "\n",
    "# sklearn :: models\n",
    "from sklearn.linear_model import LinearRegression\n",
    "from sklearn.ensemble import RandomForestRegressor\n",
    "from sklearn.neighbors import KNeighborsRegressor\n",
    "from sklearn.ensemble import GradientBoostingRegressor\n",
    "\n",
    "# sklearn :: evaluation metrics\n",
    "from sklearn.metrics import mean_absolute_error\n",
    "from sklearn.metrics import mean_squared_error\n",
    "\n",
    "# convert scientific notation to decimals\n",
    "pd.set_option('display.float_format', lambda x: '%.2f' % x)\n",
    "sns.set_style('whitegrid')"
   ]
  },
  {
   "cell_type": "markdown",
   "metadata": {},
   "source": [
    "__________________\n",
    "## Load Data"
   ]
  },
  {
   "cell_type": "code",
   "execution_count": null,
   "metadata": {},
   "outputs": [],
   "source": []
  },
  {
   "cell_type": "markdown",
   "metadata": {},
   "source": [
    "_________________________\n",
    "## Change Format"
   ]
  },
  {
   "cell_type": "code",
   "execution_count": 2,
   "metadata": {},
   "outputs": [],
   "source": [
    "def change_tf_format(df_airbnb):\n",
    "    df_airbnb=df_airbnb.replace(to_replace='t', value=True)\n",
    "    df_airbnb=df_airbnb.replace(to_replace='f', value=False)\n",
    "    df_airbnb.head()\n",
    "    \n",
    "    return df_airbnb"
   ]
  },
  {
   "cell_type": "markdown",
   "metadata": {},
   "source": [
    "______________________\n",
    "## Missing Values"
   ]
  },
  {
   "cell_type": "markdown",
   "metadata": {},
   "source": [
    "### 1. Review scores rating"
   ]
  },
  {
   "cell_type": "code",
   "execution_count": null,
   "metadata": {
    "scrolled": false
   },
   "outputs": [],
   "source": [
    "\n",
    "rsr_group = df_airbnb.groupby('number_of_reviews')['review_scores_rating']\n",
    "df_airbnb[df_airbnb['review_scores_rating'].isnull()]['number_of_reviews'].value_counts()\n"
   ]
  },
  {
   "cell_type": "markdown",
   "metadata": {},
   "source": [
    "#### Most of the missing values are because there aren't any reviews to calculate the rate from."
   ]
  },
  {
   "cell_type": "code",
   "execution_count": null,
   "metadata": {},
   "outputs": [],
   "source": [
    "\n",
    "for r in df_airbnb.index[df_airbnb['review_scores_rating'].isnull()]:\n",
    "    n_reviews = df_airbnb.loc[idx,'review_scores_rating']\n",
    "    rsr_df['review_scores_rating'].fillna(rsr_group[n])\n",
    "    #df_airbnb['review_scores_rating'] = rsr_df['review_scores_rating']\n",
    "\n",
    "    \n",
    "#df_airbnb['review_scores_rating'] = df_airbnb['review_scores_rating'].fillna(df_airbnb['number_of_reviews']*df_airbnb['review_scores_rating'].mean())\n"
   ]
  },
  {
   "cell_type": "markdown",
   "metadata": {},
   "source": [
    "### 2. Bedrooms"
   ]
  },
  {
   "cell_type": "code",
   "execution_count": 5,
   "metadata": {},
   "outputs": [],
   "source": [
    "#Bedrooms\n",
    "\n",
    "def mv_bathrooms(df_airbnb):\n",
    "    \n",
    "    acc_med_bedrooms = df_airbnb.groupby('accommodates', sort=False)['bedrooms'].median()\n",
    "    \n",
    "    for idx in df_airbnb.index[df_airbnb['bedrooms'].isnull()]:\n",
    "        n_acc = df_airbnb.loc[idx,'accommodates']\n",
    "        df_airbnb.at[idx,'bedrooms'] = acc_med_bedrooms.iloc[int(n_acc)]\n",
    "    \n",
    "    return df_airbnb\n"
   ]
  },
  {
   "cell_type": "markdown",
   "metadata": {},
   "source": [
    "### 3. Bathrooms"
   ]
  },
  {
   "cell_type": "code",
   "execution_count": 6,
   "metadata": {
    "scrolled": false
   },
   "outputs": [],
   "source": [
    "#Bathrooms\n",
    "\n",
    "import math\n",
    "\n",
    "def mv_bathrooms(df_airbnb):\n",
    "    \n",
    "    bedrooms_med = df_airbnb.groupby('bedrooms', sort=False)['bathrooms'].median()\n",
    "    \n",
    "    for idx in df_airbnb.index[df_airbnb['bathrooms'].isnull()]:\n",
    "        n_bedrms = df_airbnb.loc[idx,'bedrooms']\n",
    "        if(n_bedrms > 0): #replace by the median\n",
    "            df_airbnb.at[idx,'bathrooms'] = bedrooms_med.iloc[int(n_bedrms)]\n",
    "        \n",
    "        else: #replace by the median bathroom\n",
    "            df_airbnb.at[idx,'bathrooms'] = math.floor(df_airbnb['bathrooms'].mean())\n",
    "        \n",
    "    return df_airbnb\n"
   ]
  },
  {
   "cell_type": "markdown",
   "metadata": {},
   "source": [
    "_________________________________\n",
    "## Feature Engineering"
   ]
  },
  {
   "cell_type": "code",
   "execution_count": 7,
   "metadata": {},
   "outputs": [],
   "source": [
    "def get_dum(df_airbnb):\n",
    "    categorical=['room_type','bed_type','cancellation_policy', 'city']\n",
    "    df_dummies=pd.get_dummies(df_airbnb[categorical])\n",
    "    new_df = pd.concat([df_airbnb, df_dummies], axis=1)\n",
    "    \n",
    "    return new_df,df_dummies"
   ]
  },
  {
   "cell_type": "markdown",
   "metadata": {},
   "source": [
    "________________________\n",
    "## Load Data"
   ]
  },
  {
   "cell_type": "code",
   "execution_count": 8,
   "metadata": {},
   "outputs": [],
   "source": [
    "df = pd.read_csv('data/train.csv')\n",
    "\n",
    "df = change_tf_format(df)\n",
    "df = mv_bathrooms(df)\n",
    "df, df_dummies = get_dum(df)\n",
    "\n",
    "\n",
    "df_test = pd.read_csv('data/test.csv')\n",
    "df_test = change_tf_format(df_test)\n",
    "df_test = mv_bathrooms(df_test)\n",
    "df_test, df_dummies_test = get_dum(df_test)\n"
   ]
  },
  {
   "cell_type": "markdown",
   "metadata": {},
   "source": [
    "______________________________\n",
    "## Train Data"
   ]
  },
  {
   "cell_type": "code",
   "execution_count": 12,
   "metadata": {},
   "outputs": [
    {
     "name": "stdout",
     "output_type": "stream",
     "text": [
      "(51000, 23)\n"
     ]
    }
   ],
   "source": [
    "X_columns = ['bathrooms', 'accommodates','number_of_reviews'] + list(df_dummies.columns)\n",
    "y_column = ['log_price']\n",
    "\n",
    "# handle missing values\n",
    "df_train = df[X_columns + y_column]\n",
    "print(df_train.shape)"
   ]
  },
  {
   "cell_type": "code",
   "execution_count": 13,
   "metadata": {},
   "outputs": [],
   "source": [
    "X_train = df_train[X_columns]\n",
    "y_train = df_train[y_column]"
   ]
  },
  {
   "cell_type": "markdown",
   "metadata": {},
   "source": [
    "## Test Data"
   ]
  },
  {
   "cell_type": "code",
   "execution_count": 14,
   "metadata": {},
   "outputs": [],
   "source": [
    "#t_columns = ['bathrooms', 'accommodates','number_of_reviews'] + list(df_dummies.columns)\n",
    "df_prediction = df_test[X_columns]"
   ]
  },
  {
   "cell_type": "markdown",
   "metadata": {},
   "source": [
    "______________\n",
    "## Train and Test"
   ]
  },
  {
   "cell_type": "code",
   "execution_count": 15,
   "metadata": {},
   "outputs": [],
   "source": [
    "# Linear Regression\n",
    "\n",
    "lr_model = LinearRegression()\n",
    "lr_model.fit(X_train, y_train)\n",
    "df_test['log_price'] = lr_model.predict(df_prediction)\n",
    "\n",
    "df_test[['id', 'log_price']].to_csv('submission_v1.csv', index=False)"
   ]
  },
  {
   "cell_type": "code",
   "execution_count": 16,
   "metadata": {},
   "outputs": [
    {
     "name": "stderr",
     "output_type": "stream",
     "text": [
      "C:\\Users\\A-Sha\\Anaconda3\\lib\\site-packages\\sklearn\\utils\\validation.py:761: DataConversionWarning: A column-vector y was passed when a 1d array was expected. Please change the shape of y to (n_samples, ), for example using ravel().\n",
      "  y = column_or_1d(y, warn=True)\n"
     ]
    }
   ],
   "source": [
    "# Gradient Boosting\n",
    "\n",
    "gb_model = GradientBoostingRegressor()\n",
    "gb_model.fit(X_train, y_train)\n",
    "df_test['log_price'] = gb_model.predict(df_prediction)\n",
    "\n",
    "df_test[['id', 'log_price']].to_csv('submission_v2.csv', index=False)"
   ]
  },
  {
   "cell_type": "markdown",
   "metadata": {},
   "source": [
    "______________________\n",
    "## Prepare Submission"
   ]
  },
  {
   "cell_type": "code",
   "execution_count": 17,
   "metadata": {},
   "outputs": [],
   "source": [
    "df_test[['id', 'log_price']].to_csv('submission_v1.csv', index=False)"
   ]
  },
  {
   "cell_type": "code",
   "execution_count": null,
   "metadata": {},
   "outputs": [],
   "source": []
  }
 ],
 "metadata": {
  "kernelspec": {
   "display_name": "Python 3",
   "language": "python",
   "name": "python3"
  },
  "language_info": {
   "codemirror_mode": {
    "name": "ipython",
    "version": 3
   },
   "file_extension": ".py",
   "mimetype": "text/x-python",
   "name": "python",
   "nbconvert_exporter": "python",
   "pygments_lexer": "ipython3",
   "version": "3.7.1"
  }
 },
 "nbformat": 4,
 "nbformat_minor": 2
}
